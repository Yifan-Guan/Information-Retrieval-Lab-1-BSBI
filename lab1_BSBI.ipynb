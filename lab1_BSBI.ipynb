{
 "cells": [
  {
   "cell_type": "markdown",
   "metadata": {},
   "source": [
    "# HW1 布尔查询之BSBI与索引压缩\n",
    "\n",
    "本次作业使用斯坦福大学[CS 276 / LING 286: Information Retrieval and Web Search](https://web.stanford.edu/class/cs276/)课程的代码框架来实现。具体来说主要包含的内容有：\n",
    "1. [索引构建 (40%)](#索引构建与检索-(40%)) 使用BSBI方法模拟在内存不足的情况下的索引构建方式，并应用于布尔查询\n",
    "2. [索引压缩 (30%)](#索引压缩-(30%)) 使用可变长编码对构建的索引进行压缩\n",
    "3. [布尔检索 (10%)](#布尔联合检索-(10%)) 对空格分隔的单词查询进行联合（与）布尔检索\n",
    "3. [实验报告 (10%)](#Report-(25%)) 描述你的代码并回答一些问题\n",
    "4. [额外的编码方式 (10%)](#额外的编码方式-(10%)) 鼓励使用额外的编码方式对索引进行压缩 (例如, gamma-encoding)"
   ]
  },
  {
   "cell_type": "markdown",
   "metadata": {},
   "source": [
    "***为了与实验指导书的内容区分，实验报告部分均采用加粗倾斜字体***"
   ]
  },
  {
   "cell_type": "markdown",
   "metadata": {},
   "source": [
    "***IDE：Pycharm 2024.3.5 (Community Edition)***\n",
    "\n",
    "***conda version : 25.1.1***\n",
    "\n",
    "***python version : 3.12.9.final.0***\n",
    "\n",
    "***GitHub: https://github.com/Yifan-Guan/Information-Retrieval-Lab-1-BSBI.git***"
   ]
  },
  {
   "cell_type": "code",
   "execution_count": null,
   "metadata": {},
   "outputs": [],
   "source": [
    "# You can add additional imports here\n",
    "import sys\n",
    "import pickle as pkl\n",
    "import array\n",
    "import os\n",
    "import timeit\n",
    "import contextlib"
   ]
  },
  {
   "cell_type": "markdown",
   "metadata": {},
   "source": [
    "# 数据集"
   ]
  },
  {
   "cell_type": "markdown",
   "metadata": {},
   "source": [
    "实验使用的文本数据是stanford.edu域下的网页内容，可从http://web.stanford.edu/class/cs276/pa/pa1-data.zip 下载。以下代码将大约170MB的文本数据下载到当前目录下，"
   ]
  },
  {
   "cell_type": "code",
   "execution_count": null,
   "metadata": {},
   "outputs": [],
   "source": [
    "import urllib.request\n",
    "import zipfile\n",
    "\n",
    "data_url = 'http://web.stanford.edu/class/cs276/pa/pa1-data.zip'\n",
    "data_dir = 'pa1-data'\n",
    "urllib.request.urlretrieve(data_url, data_dir+'.zip')\n",
    "zip_ref = zipfile.ZipFile(data_dir+'.zip', 'r')\n",
    "zip_ref.extractall()\n",
    "zip_ref.close()"
   ]
  },
  {
   "cell_type": "markdown",
   "metadata": {},
   "source": [
    "***网络原因，仅测试了代码的可行性，后续直接使用了课程群提供的数据集。***"
   ]
  },
  {
   "cell_type": "markdown",
   "metadata": {},
   "source": [
    "之后构建的索引会被存储到`output_dir`，`tmp`会存储测试数据（toy-data）所生成的一些临时文件"
   ]
  },
  {
   "cell_type": "code",
   "execution_count": null,
   "metadata": {},
   "outputs": [],
   "source": [
    "try: \n",
    "    os.mkdir('output_dir')\n",
    "except FileExistsError:\n",
    "    pass\n",
    "try: \n",
    "    os.mkdir('tmp')\n",
    "except FileExistsError:\n",
    "    pass\n",
    "try: \n",
    "    os.mkdir('toy_output_dir')\n",
    "except FileExistsError:\n",
    "    pass"
   ]
  },
  {
   "cell_type": "markdown",
   "metadata": {},
   "source": [
    "在数据目录下有10个子目录（命名0-9）"
   ]
  },
  {
   "cell_type": "code",
   "execution_count": null,
   "metadata": {},
   "outputs": [],
   "source": [
    "sorted(os.listdir('pa1-data'))"
   ]
  },
  {
   "cell_type": "markdown",
   "metadata": {},
   "source": [
    "每一个子目录下的文件都包含一个独立网页的内容。可以认为在同一子目录下没有同名文件，即每个文件的绝对路径不会相同。"
   ]
  },
  {
   "cell_type": "code",
   "execution_count": null,
   "metadata": {},
   "outputs": [],
   "source": [
    "sorted(os.listdir('pa1-data/0'))[:10]"
   ]
  },
  {
   "cell_type": "markdown",
   "metadata": {},
   "source": [
    "所有的网页内容已经经过处理，仅包含由空格分隔开的单词，不再需要进行额外的标准化工作。"
   ]
  },
  {
   "cell_type": "code",
   "execution_count": null,
   "metadata": {},
   "outputs": [],
   "source": [
    "with open('pa1-data/0/3dradiology.stanford.edu_', 'r') as f:\n",
    "    print(f.read())\n",
    "    "
   ]
  },
  {
   "cell_type": "markdown",
   "metadata": {},
   "source": [
    "***针对代码进行了一些调整***"
   ]
  },
  {
   "cell_type": "code",
   "execution_count": null,
   "metadata": {},
   "outputs": [],
   "source": [
    "# code\n",
    "pa1_data_name = \"pa1-data\"\n",
    "pa1_data_dir_list = sorted(os.listdir(\"pa1-data\"))\n",
    "pa1_data_dir_name = pa1_data_dir_list[0]\n",
    "file_list = sorted(os.listdir(pa1_data_name + '\\\\' + pa1_data_dir_name))\n",
    "file_name = file_list[0]\n",
    "print(file_name)\n",
    "file_path = os.path.join(pa1_data_name, pa1_data_dir_name, file_name)\n",
    "with open(file_path, 'r') as file:\n",
    "    print(file.read())"
   ]
  },
  {
   "cell_type": "markdown",
   "metadata": {},
   "source": [
    "***输出：***\n",
    "3dradiology.stanford.edu_\n",
    "3d radiology lab stanford university school of medicine stanford school of medicine 3d and quantitative imaging in the department of radiology search this site only stanford medical sites ways to give find a person alumni lane library ways to give find a person about us mission to develop and apply innovative techniques for efficient quantitative analysis and display of medical imaging data through interdisciplinary collaboration goals education to train physicians and technologists locally and worldwide in the latest developments in 3d and quantitative imaging research to develop new approaches to the exploration analysis and quantitative assesment of diagnostic images that result in a new and or more cost effective diagnostic approaches and b new techniques for the design and planning and monitoring of therapy patient care to deliver valid clinically relevant visualization and analysis of medical imaging data to the stanford community locations richard m lucas magnetic resonance imaging center 1201 welch rd p170 stanford ca 94305 5488 650 725 8432 james h clark center 318 campus drive s344 stanford ca 94305 5450 650 725 6862 directions to the 3qd lab local hotels you are here stanford medicine school of medicine departments radiology 3dq laboratory navigation for this section 3dq laboratory home education research patient care industry about us site navigation home education overview visiting fellowships reading list research overview research activities research opportunities patient care overview for physicians for patients protocol development 3dq management software case studies testimonials industry overview infrastructure and services about us faculty and staff history of the lab resources and equipment contact information jobs getting to the 3dq lab stanford medicine resources stanford medicine getting care overview find a physician find a clinical care center stanford hospital & clinics lucile packard children's hospital emergency research overview school of medicine news & resources clinical trials departments institutes & centers faculty profiles education & training overview school of medicine programs admissions continuing medical education alumni lane medical library community overview stanford health library community newsletter volunteering public service & community partnerships renewal & new building projects about us overview news careers ways to give find a person contact us maps & directions the dean's newsletter stanford university footer links contact us directions members only 2009 stanford school of medicine terms of use powered by irt\n"
   ]
  },
  {
   "cell_type": "markdown",
   "metadata": {},
   "source": [
    "# 索引构建与检索 (40%)"
   ]
  },
  {
   "cell_type": "markdown",
   "metadata": {},
   "source": [
    "作业的第一部分是使用**blocked sort-based indexing (BSBI)** 算法来构建倒排索引并实现布尔检索。关于BSBI算法可以参考老师课件或者斯坦福教材[Section 4.2](http://nlp.stanford.edu/IR-book/pdf/04const.pdf)。以下摘自教材内容\n",
    "\n",
    "> To construct an index, we first make a pass through the collection assembling all term-docID pairs. We then sort the pairs with the term as the dominant key and docID as the secondary key. Finally, we organize the docIDs for each term into a postings list and compute statistics like term and document frequency. For small collections, all this can be done in memory. \n",
    "\n",
    "对于无法在内存一次性处理的较大数据集，将会使用到二级存储（如：磁盘）。"
   ]
  },
  {
   "cell_type": "markdown",
   "metadata": {},
   "source": [
    "## IdMap (6%)\n",
    "\n",
    "再次引用教材 Section 4.2:\n",
    "\n",
    "> To make index construction more efficient, we represent terms as termIDs (instead of strings), where each termID is a unique serial number. We can build the mapping from terms to termIDs on the fly while we are processing the collection. Similarly, we also represent documents as docIDs (instead of strings).\n",
    "\n",
    "我们首先定义一个辅助类`IdMap`，用于将字符串和数字ID进行相互映射，以满足我们在term和termID、doc和docID间转换的需求。\n",
    "\n",
    "实现以下代码中的`_get_str` 和 `_get_id`函数，IdMap类的唯一接口是`__getitem__`，它是一个特殊函数，重写了下标运算`[]`,根据下标运算键的类型得到正确的映射值（如果不存在需要添加）。（特殊函数可参考[官方文档](https://docs.python.org/3.7/reference/datamodel.html#special-method-names)）\n",
    "<br>\n",
    "<br>\n",
    "我们会用到字典来将字符串转换为数字，用列表来将数字转换为字符串。(4%)"
   ]
  },
  {
   "cell_type": "code",
   "execution_count": null,
   "metadata": {},
   "outputs": [],
   "source": [
    "class IdMap:\n",
    "    \"\"\"Helper class to store a mapping from strings to ids.\"\"\"\n",
    "    def __init__(self):\n",
    "        self.str_to_id = {}\n",
    "        self.id_to_str = []\n",
    "        \n",
    "    def __len__(self):\n",
    "        \"\"\"Return number of terms stored in the IdMap\"\"\"\n",
    "        return len(self.id_to_str)\n",
    "        \n",
    "    def _get_str(self, i):\n",
    "        \"\"\"Returns the string corresponding to a given id (`i`).\"\"\"\n",
    "        ### Begin your code\n",
    "\n",
    "        ### End your code\n",
    "        \n",
    "    def _get_id(self, s):\n",
    "        \"\"\"Returns the id corresponding to a string (`s`). \n",
    "        If `s` is not in the IdMap yet, then assigns a new id and returns the new id.\n",
    "        \"\"\"\n",
    "        ### Begin your code\n",
    "\n",
    "        ### End your code\n",
    "            \n",
    "    def __getitem__(self, key):\n",
    "        \"\"\"If `key` is a integer, use _get_str; \n",
    "           If `key` is a string, use _get_id;\"\"\"\n",
    "        if type(key) is int:\n",
    "            return self._get_str(key)\n",
    "        elif type(key) is str:\n",
    "            return self._get_id(key)\n",
    "        else:\n",
    "            raise TypeError"
   ]
  },
  {
   "cell_type": "markdown",
   "metadata": {},
   "source": [
    "***get_str方法，用id检索，表中不存在则返回空字符串。get_id方法，未在字典中则加入字典，同时加入列表。***\n",
    "\n",
    "***方法代码***"
   ]
  },
  {
   "cell_type": "code",
   "execution_count": null,
   "metadata": {},
   "outputs": [],
   "source": [
    "    def _get_str(self, i):\n",
    "        if 0 <= i < len(self.id_to_str):\n",
    "            return self.id_to_str[i]\n",
    "        else:\n",
    "            return \"\"\n",
    "\n",
    "    def _get_id(self, s):\n",
    "        if s not in self.str_to_id.keys():\n",
    "            self.str_to_id[s] = len(self.id_to_str)\n",
    "            self.id_to_str.append(s)\n",
    "        return self.str_to_id[s]"
   ]
  },
  {
   "cell_type": "markdown",
   "metadata": {},
   "source": [
    "确保代码能通过以下简单测试样例 (2%)"
   ]
  },
  {
   "cell_type": "code",
   "execution_count": null,
   "metadata": {},
   "outputs": [],
   "source": [
    "testIdMap = IdMap()\n",
    "assert testIdMap['a'] == 0, \"Unable to add a new string to the IdMap\"\n",
    "assert testIdMap['bcd'] == 1, \"Unable to add a new string to the IdMap\"\n",
    "assert testIdMap['a'] == 0, \"Unable to retrieve the id of an existing string\"\n",
    "assert testIdMap[1] == 'bcd', \"Unable to retrive the string corresponding to a\\\n",
    "                                given id\"\n",
    "try:\n",
    "    testIdMap[2]\n",
    "except IndexError as e:\n",
    "    assert True, \"Doesn't throw an IndexError for out of range numeric ids\"\n",
    "assert len(testIdMap) == 2"
   ]
  },
  {
   "cell_type": "markdown",
   "metadata": {},
   "source": [
    "***测试样例通过***"
   ]
  },
  {
   "cell_type": "markdown",
   "metadata": {},
   "source": [
    "之后会需要你自己来写测试样例来确保你的程序正常运行"
   ]
  },
  {
   "cell_type": "markdown",
   "metadata": {},
   "source": [
    "## 将倒排列表编码成字节数组 (2%)\n",
    "\n",
    "为了高效地从磁盘读写倒排列表（文档ID），我们将其存储为字节数组的形式。代码提供了`UncompressedPostings`类来用静态函数实现对倒排列表的编码和解码。在之后的任务中你需要使用该接口实现索引压缩版本（可变长编码）。\n",
    "\n",
    "参考:\n",
    "1. https://docs.python.org/3/library/array.html\n",
    "2. https://pymotw.com/3/array/#module-array"
   ]
  },
  {
   "cell_type": "code",
   "execution_count": null,
   "metadata": {},
   "outputs": [],
   "source": [
    "class UncompressedPostings:\n",
    "    \n",
    "    @staticmethod\n",
    "    def encode(postings_list):\n",
    "        \"\"\"Encodes postings_list into a stream of bytes\n",
    "        \n",
    "        Parameters\n",
    "        ----------\n",
    "        postings_list: List[int]\n",
    "            List of docIDs (postings)\n",
    "            \n",
    "        Returns\n",
    "        -------\n",
    "        bytes\n",
    "            bytearray representing integers in the postings_list\n",
    "        \"\"\"\n",
    "        return array.array('L', postings_list).tobytes()\n",
    "        \n",
    "    @staticmethod\n",
    "    def decode(encoded_postings_list):\n",
    "        \"\"\"Decodes postings_list from a stream of bytes\n",
    "        \n",
    "        Parameters\n",
    "        ----------\n",
    "        encoded_postings_list: bytes\n",
    "            bytearray representing encoded postings list as output by encode \n",
    "            function\n",
    "            \n",
    "        Returns\n",
    "        -------\n",
    "        List[int]\n",
    "            Decoded list of docIDs from encoded_postings_list\n",
    "        \"\"\"\n",
    "        \n",
    "        decoded_postings_list = array.array('L')\n",
    "        decoded_postings_list.frombytes(encoded_postings_list)\n",
    "        return decoded_postings_list.tolist()"
   ]
  },
  {
   "cell_type": "markdown",
   "metadata": {},
   "source": [
    "运行以下代码查看其工作方式 (2%)"
   ]
  },
  {
   "cell_type": "code",
   "execution_count": null,
   "metadata": {},
   "outputs": [],
   "source": [
    "x = UncompressedPostings.encode([1,2,3])\n",
    "print(x)\n",
    "print(UncompressedPostings.decode(x))"
   ]
  },
  {
   "cell_type": "markdown",
   "metadata": {},
   "source": [
    "***运行结果***\n",
    "\n",
    "b'\\x01\\x00\\x00\\x00\\x02\\x00\\x00\\x00\\x03\\x00\\x00\\x00'\n",
    "\n",
    "[1, 2, 3]"
   ]
  },
  {
   "cell_type": "markdown",
   "metadata": {},
   "source": [
    "## 磁盘上的倒排索引 (2%)\n",
    "\n",
    "> With main memory insufficient, we need to use an external sorting algorithm, that is, one that uses disk. For acceptable speed, the central requirement of such an algorithm is that it minimize the number of random disk seeks during sorting - sequential disk reads are far faster than seeks. \n",
    "\n",
    "在这一部分我们提供了一个基类`InvertedIndex`，之后会在此基础上构建它的子类`InvertedIndexWriter`, `InvertedIndexIterator` 和 `InvertedIndexMapper`。在Python中我们常用`cPickle`进行序列化，但是它并不支持部分读和部分写，无法满足BSBI算法的需要，所以我们需要定义自己的存储方式。"
   ]
  },
  {
   "cell_type": "code",
   "execution_count": null,
   "metadata": {},
   "outputs": [],
   "source": [
    "class InvertedIndex:\n",
    "    \"\"\"A class that implements efficient reads and writes of an inverted index \n",
    "    to disk\n",
    "    \n",
    "    Attributes\n",
    "    ----------\n",
    "    postings_dict: Dictionary mapping: termID->(start_position_in_index_file, \n",
    "                                                number_of_postings_in_list,\n",
    "                                               length_in_bytes_of_postings_list)\n",
    "        This is a dictionary that maps from termIDs to a 3-tuple of metadata \n",
    "        that is helpful in reading and writing the postings in the index file \n",
    "        to/from disk. This mapping is supposed to be kept in memory. \n",
    "        start_position_in_index_file is the position (in bytes) of the postings \n",
    "        list in the index file\n",
    "        number_of_postings_in_list is the number of postings (docIDs) in the \n",
    "        postings list\n",
    "        length_in_bytes_of_postings_list is the length of the byte \n",
    "        encoding of the postings list\n",
    "    \n",
    "    terms: List[int]\n",
    "        A list of termIDs to remember the order in which terms and their \n",
    "        postings lists were added to index. \n",
    "        \n",
    "        After Python 3.7 we technically no longer need it because a Python dict \n",
    "        is an OrderedDict, but since it is a relatively new feature, we still\n",
    "        maintain backward compatibility with a list to keep track of order of \n",
    "        insertion. \n",
    "    \"\"\"\n",
    "    def __init__(self, index_name, postings_encoding=None, directory=''):\n",
    "        \"\"\"\n",
    "        Parameters\n",
    "        ----------\n",
    "        index_name (str): Name used to store files related to the index\n",
    "        postings_encoding: A class implementing static methods for encoding and \n",
    "            decoding lists of integers. Default is None, which gets replaced\n",
    "            with UncompressedPostings\n",
    "        directory (str): Directory where the index files will be stored\n",
    "        \"\"\"\n",
    "\n",
    "        self.index_file_path = os.path.join(directory, index_name+'.index')\n",
    "        self.metadata_file_path = os.path.join(directory, index_name+'.dict')\n",
    "\n",
    "        if postings_encoding is None:\n",
    "            self.postings_encoding = UncompressedPostings\n",
    "        else:\n",
    "            self.postings_encoding = postings_encoding\n",
    "        self.directory = directory\n",
    "\n",
    "        self.postings_dict = {}\n",
    "        self.terms = []         #Need to keep track of the order in which the \n",
    "                                #terms were inserted. Would be unnecessary \n",
    "                                #from Python 3.7 onwards\n",
    "\n",
    "    def __enter__(self):\n",
    "        \"\"\"Opens the index_file and loads metadata upon entering the context\"\"\"\n",
    "        # Open the index file\n",
    "        self.index_file = open(self.index_file_path, 'rb+')\n",
    "\n",
    "        # Load the postings dict and terms from the metadata file\n",
    "        with open(self.metadata_file_path, 'rb') as f:\n",
    "            self.postings_dict, self.terms = pkl.load(f)\n",
    "            self.term_iter = self.terms.__iter__()                       \n",
    "\n",
    "        return self\n",
    "    \n",
    "    def __exit__(self, exception_type, exception_value, traceback):\n",
    "        \"\"\"Closes the index_file and saves metadata upon exiting the context\"\"\"\n",
    "        # Close the index file\n",
    "        self.index_file.close()\n",
    "        \n",
    "        # Write the postings dict and terms to the metadata file\n",
    "        with open(self.metadata_file_path, 'wb') as f:\n",
    "            pkl.dump([self.postings_dict, self.terms], f)"
   ]
  },
  {
   "cell_type": "markdown",
   "metadata": {},
   "source": [
    "因为是在与磁盘上的文件进行交互，所以我们提供了`__enter__`和`__exit__`函数，它使得我们能够像使用python中文件IO一样使用`with`语句。（参考[上下文管理器官方文档](https://docs.python.org/3/library/contextlib.html)）\n",
    "\n",
    "以下是使用 `InvertedIndexWriter` 上下文管理器的实例: (2%)\n",
    "\n",
    "```python\n",
    "with InvertedIndexWriter('test', directory='tmp/') as index:\n",
    "    # Some code here\n",
    "```"
   ]
  },
  {
   "cell_type": "markdown",
   "metadata": {},
   "source": [
    "## 索引 (30%)\n",
    "\n",
    "> BSBI (i) segments the collection into parts of equal size, (ii) sorts the termID-docID pairs of each part in memory, (iii) stores intermediate sorted results on disk, and (iv) merges all intermediate results into the final index. \n",
    "\n",
    "你需要将每一个子目录当做一个块（block），并且在构建索引的过程中每次只能加载一个块（模拟内存不足）。注意到我们是将操作系统意义上的块进行了抽象。你可以认为每个块足够小，能被装载进内存。\n",
    "\n",
    "在这一部分，我们将阶段性地构造类`BSBIIndex`。函数`index`给出了BSBI算法的框架，而你的工作则是在接下来的部分中实现函数`parse_block`, `invert_write` 和 `merge`。"
   ]
  },
  {
   "cell_type": "code",
   "execution_count": null,
   "metadata": {},
   "outputs": [],
   "source": [
    "# Do not make any changes here, they will be overwritten while grading\n",
    "class BSBIIndex:\n",
    "    \"\"\" \n",
    "    Attributes\n",
    "    ----------\n",
    "    term_id_map(IdMap): For mapping terms to termIDs\n",
    "    doc_id_map(IdMap): For mapping relative paths of documents (eg \n",
    "        0/3dradiology.stanford.edu_) to docIDs\n",
    "    data_dir(str): Path to data\n",
    "    output_dir(str): Path to output index files\n",
    "    index_name(str): Name assigned to index\n",
    "    postings_encoding: Encoding used for storing the postings.\n",
    "        The default (None) implies UncompressedPostings\n",
    "    \"\"\"\n",
    "    def __init__(self, data_dir, output_dir, index_name = \"BSBI\", \n",
    "                 postings_encoding = None):\n",
    "        self.term_id_map = IdMap()\n",
    "        self.doc_id_map = IdMap()\n",
    "        self.data_dir = data_dir\n",
    "        self.output_dir = output_dir\n",
    "        self.index_name = index_name\n",
    "        self.postings_encoding = postings_encoding\n",
    "\n",
    "        # Stores names of intermediate indices\n",
    "        self.intermediate_indices = []\n",
    "        \n",
    "    def save(self):\n",
    "        \"\"\"Dumps doc_id_map and term_id_map into output directory\"\"\"\n",
    "        \n",
    "        with open(os.path.join(self.output_dir, 'terms.dict'), 'wb') as f:\n",
    "            pkl.dump(self.term_id_map, f)\n",
    "        with open(os.path.join(self.output_dir, 'docs.dict'), 'wb') as f:\n",
    "            pkl.dump(self.doc_id_map, f)\n",
    "    \n",
    "    def load(self):\n",
    "        \"\"\"Loads doc_id_map and term_id_map from output directory\"\"\"\n",
    "        \n",
    "        with open(os.path.join(self.output_dir, 'terms.dict'), 'rb') as f:\n",
    "            self.term_id_map = pkl.load(f)\n",
    "        with open(os.path.join(self.output_dir, 'docs.dict'), 'rb') as f:\n",
    "            self.doc_id_map = pkl.load(f)\n",
    "            \n",
    "    def index(self):\n",
    "        \"\"\"Base indexing code\n",
    "        \n",
    "        This function loops through the data directories, \n",
    "        calls parse_block to parse the documents\n",
    "        calls invert_write, which inverts each block and writes to a new index\n",
    "        then saves the id maps and calls merge on the intermediate indices\n",
    "        \"\"\"\n",
    "        for block_dir_relative in sorted(next(os.walk(self.data_dir))[1]):\n",
    "            td_pairs = self.parse_block(block_dir_relative)\n",
    "            index_id = 'index_'+block_dir_relative\n",
    "            self.intermediate_indices.append(index_id)\n",
    "            with InvertedIndexWriter(index_id, directory=self.output_dir, \n",
    "                                     postings_encoding=\n",
    "                                     self.postings_encoding) as index:\n",
    "                self.invert_write(td_pairs, index)\n",
    "                td_pairs = None\n",
    "        self.save()\n",
    "        with InvertedIndexWriter(self.index_name, directory=self.output_dir, \n",
    "                                 postings_encoding=\n",
    "                                 self.postings_encoding) as merged_index:\n",
    "            with contextlib.ExitStack() as stack:\n",
    "                indices = [stack.enter_context(\n",
    "                    InvertedIndexIterator(index_id, \n",
    "                                          directory=self.output_dir, \n",
    "                                          postings_encoding=\n",
    "                                          self.postings_encoding)) \n",
    "                 for index_id in self.intermediate_indices]\n",
    "                self.merge(indices, merged_index)"
   ]
  },
  {
   "cell_type": "markdown",
   "metadata": {},
   "source": [
    "### 解析 (10%)\n",
    "\n",
    "> The function `parse_block`  parses documents into termID-docID pairs and accumulates the pairs in memory until a block of a fixed size is full. We choose the block size to fit comfortably into memory to permit a fast in-memory sort. \n",
    "\n",
    "你需要将每一个子目录当做一个块，`parse_block`接收子目录路径作为参数。同一子目录下所有文件名都是不同的。 (5%)\n",
    "\n",
    "_注意 - 我们使用 `BSBIIndex` 继承 `BSBIIndex`, 这只是对一个已存在类添加新内容的简单方法。在这里只是用来切分类的定义（jupyter notebook内教学使用，无特殊含义）。_"
   ]
  },
  {
   "cell_type": "code",
   "execution_count": null,
   "metadata": {},
   "outputs": [],
   "source": [
    "class BSBIIndex(BSBIIndex):            \n",
    "    def parse_block(self, block_dir_relative):\n",
    "        \"\"\"Parses a tokenized text file into termID-docID pairs\n",
    "        \n",
    "        Parameters\n",
    "        ----------\n",
    "        block_dir_relative : str\n",
    "            Relative Path to the directory that contains the files for the block\n",
    "        \n",
    "        Returns\n",
    "        -------\n",
    "        List[Tuple[Int, Int]]\n",
    "            Returns all the td_pairs extracted from the block\n",
    "        \n",
    "        Should use self.term_id_map and self.doc_id_map to get termIDs and docIDs.\n",
    "        These persist across calls to parse_block\n",
    "        \"\"\"\n",
    "        ### Begin your code\n",
    "\n",
    "        ### End your code"
   ]
  },
  {
   "cell_type": "markdown",
   "metadata": {},
   "source": [
    "***代码***\n",
    "\n",
    "***读取文件目录下所有文件，将文件路径编码，读取文件内容，分词，对每个词编码，将文件路径编码和词编码组成列表，追加到结果列表。***"
   ]
  },
  {
   "cell_type": "code",
   "execution_count": null,
   "metadata": {},
   "outputs": [],
   "source": [
    "    def parse_block(self, block_dir_relative):\n",
    "        \"\"\"\n",
    "        See the statement in the document.\n",
    "        :param block_dir_relative:\n",
    "        \"\"\"\n",
    "        result = []\n",
    "        block_dir_path = os.path.join(self.data_dir, block_dir_relative)\n",
    "        file_list = os.listdir(str(block_dir_path))\n",
    "        for file_name in file_list:\n",
    "            with open(os.path.join(str(block_dir_path), file_name)) as f:\n",
    "                doc_id = self.doc_id_map[os.path.join(str(block_dir_path), file_name)]\n",
    "                file_word_list = f.read().split()\n",
    "                for word in file_word_list:\n",
    "                    term_id = self.term_id_map[word]\n",
    "                    doc_term_pair = [doc_id, term_id]\n",
    "                    result.append(doc_term_pair)\n",
    "        return result"
   ]
  },
  {
   "cell_type": "markdown",
   "metadata": {},
   "source": [
    "观察函数在测试数据上是否正常运行 (2%)"
   ]
  },
  {
   "cell_type": "code",
   "execution_count": null,
   "metadata": {},
   "outputs": [],
   "source": [
    "with open('toy-data/0/fine.txt', 'r') as f:\n",
    "    print(f.read())\n",
    "with open('toy-data/0/hello.txt', 'r') as f:\n",
    "    print(f.read())"
   ]
  },
  {
   "cell_type": "code",
   "execution_count": null,
   "metadata": {},
   "outputs": [],
   "source": [
    "BSBI_instance = BSBIIndex(data_dir=toy_dir, output_dir = 'tmp/', index_name = 'toy')\n",
    "BSBI_instance.parse_block('0')"
   ]
  },
  {
   "cell_type": "markdown",
   "metadata": {},
   "source": [
    "写一些测试样例来确保`parse_block`方法正常运行（如：相同单词出现时是相同ID） (3%)"
   ]
  },
  {
   "cell_type": "markdown",
   "metadata": {},
   "source": [
    "***测试代码***"
   ]
  },
  {
   "cell_type": "code",
   "execution_count": null,
   "metadata": {},
   "outputs": [],
   "source": [
    "with open('toy-data/0/fine.txt', 'r') as f:\n",
    "    print(f.read())\n",
    "with open('toy-data/0/hello.txt', 'r') as f:\n",
    "    print(f.read())\n",
    "\n",
    "BSBI_instance = BSBIIndex(data_dir=\"toy-data\", output_dir = 'tmp/', index_name = 'toy')\n",
    "pair_list = BSBI_instance.parse_block('0')\n",
    "print(pair_list)"
   ]
  },
  {
   "cell_type": "markdown",
   "metadata": {},
   "source": [
    "***测试结果***\n",
    "\n",
    "i'm fine , thank you\n",
    "\n",
    "hi hi\n",
    "how are you ?\n",
    "\n",
    "[[0, 0], [0, 1], [0, 2], [0, 3], [0, 4], [1, 5], [1, 5], [1, 6], [1, 7], [1, 4], [1, 8]]\n",
    "\n",
    "***doc_term_pair_list中第6，7项相同，对应文件中“hi hi”，证明相同单词ID相同***"
   ]
  },
  {
   "cell_type": "markdown",
   "metadata": {},
   "source": [
    "### 倒排表 (10%)\n",
    "\n",
    "> The block is then inverted and written to disk. Inversion involves two steps. First, we sort the termID-docID pairs. Next, we collect all termID-docID pairs with the same termID into a postings list, where a posting is simply a docID. The result, an inverted index for the block we have just read, is then written to disk.\n",
    "\n",
    "在这一部分我们添加函数`invert_write`来实现由termID-docID对构建倒排表。 \n",
    "\n",
    "但是，我们首先需要实现类`InvertedIndexWriter`。和列表类似，该类提供了append函数，但是倒排表不会存储在内存中而是直接写入到磁盘里。 (3%)"
   ]
  },
  {
   "cell_type": "code",
   "execution_count": null,
   "metadata": {},
   "outputs": [],
   "source": [
    "class InvertedIndexWriter(InvertedIndex):\n",
    "    \"\"\"\"\"\"\n",
    "    def __enter__(self):\n",
    "        self.index_file = open(self.index_file_path, 'wb+')              \n",
    "        return self\n",
    "\n",
    "    def append(self, term, postings_list):\n",
    "        \"\"\"Appends the term and postings_list to end of the index file.\n",
    "        \n",
    "        This function does three things, \n",
    "        1. Encodes the postings_list using self.postings_encoding\n",
    "        2. Stores metadata in the form of self.terms and self.postings_dict\n",
    "           Note that self.postings_dict maps termID to a 3 tuple of \n",
    "           (start_position_in_index_file, \n",
    "           number_of_postings_in_list, \n",
    "           length_in_bytes_of_postings_list)\n",
    "        3. Appends the bytestream to the index file on disk\n",
    "\n",
    "        Hint: You might find it helpful to read the Python I/O docs\n",
    "        (https://docs.python.org/3/tutorial/inputoutput.html) for\n",
    "        information about appending to the end of a file.\n",
    "        \n",
    "        Parameters\n",
    "        ----------\n",
    "        term:\n",
    "            term or termID is the unique identifier for the term\n",
    "        postings_list: List[Int]\n",
    "            List of docIDs where the term appears\n",
    "        \"\"\"\n",
    "        ### Begin your code\n",
    "\n",
    "        ### End your code"
   ]
  },
  {
   "cell_type": "markdown",
   "metadata": {},
   "source": [
    "***代码***\n",
    "\n",
    "***先将postings_list编码，打开索引文件，文件指针移至文件尾，构建开始位置（文件尾），postings数量，postings编码长度三者的元组，元组写入文件尾。***"
   ]
  },
  {
   "cell_type": "code",
   "execution_count": null,
   "metadata": {},
   "outputs": [],
   "source": [
    "    def append(self, term, postings_list):\n",
    "        \"\"\"\n",
    "        See the statement in the document.\n",
    "        \"\"\"\n",
    "        encoded_postings_list = self.postings_encoding.encode(postings_list)\n",
    "        with open(self.index_file_path, 'r+b') as f:\n",
    "            f.seek(0, 2)\n",
    "            start_position_in_index_file = f.tell()\n",
    "            number_of_postings_in_list = len(postings_list)\n",
    "            length_in_bytes_of_postings_list = len(encoded_postings_list)\n",
    "            self.terms.append(term)\n",
    "            self.postings_dict[term] = {start_position_in_index_file,\n",
    "                                        number_of_postings_in_list,\n",
    "                                        length_in_bytes_of_postings_list}\n",
    "            f.write(encoded_postings_list)"
   ]
  },
  {
   "cell_type": "markdown",
   "metadata": {},
   "source": [
    "尽管还没有实现读取索引的类，我们还是可以用以下测试代码检测我们的实现。 (2%)"
   ]
  },
  {
   "cell_type": "code",
   "execution_count": null,
   "metadata": {},
   "outputs": [],
   "source": [
    "with InvertedIndexWriter('test', directory='tmp/') as index:\n",
    "    index.append(1, [2, 3, 4])\n",
    "    index.append(2, [3, 4, 5])\n",
    "    index.index_file.seek(0)\n",
    "    assert index.terms == [1,2], \"terms sequence incorrect\"\n",
    "    assert index.postings_dict == {1: (0, 3, len(UncompressedPostings.encode([2,3,4]))), \n",
    "                                   2: (len(UncompressedPostings.encode([2,3,4])), 3, \n",
    "                                       len(UncompressedPostings.encode([3,4,5])))}, \"postings_dict incorrect\"\n",
    "    assert UncompressedPostings.decode(index.index_file.read()) == [2, 3, 4, 3, 4, 5], \"postings on disk incorrect\""
   ]
  },
  {
   "cell_type": "markdown",
   "metadata": {},
   "source": [
    "***测试通过***"
   ]
  },
  {
   "cell_type": "markdown",
   "metadata": {},
   "source": [
    "现在我们实现 `invert_write`，它将解析得到的td_pairs转换成倒排表，并使用`InvertedIndexWriter` 类将其写入磁盘。 (3%)"
   ]
  },
  {
   "cell_type": "code",
   "execution_count": null,
   "metadata": {},
   "outputs": [],
   "source": [
    "class BSBIIndex(BSBIIndex):\n",
    "    def invert_write(self, td_pairs, index):\n",
    "        \"\"\"Inverts td_pairs into postings_lists and writes them to the given index\n",
    "        \n",
    "        Parameters\n",
    "        ----------\n",
    "        td_pairs: List[Tuple[Int, Int]]\n",
    "            List of termID-docID pairs\n",
    "        index: InvertedIndexWriter\n",
    "            Inverted index on disk corresponding to the block       \n",
    "        \"\"\"\n",
    "        ### Begin your code\n",
    "\n",
    "        ### End your code"
   ]
  },
  {
   "cell_type": "markdown",
   "metadata": {},
   "source": [
    "***代码***\n",
    "\n",
    "***td对中的term作为字典的键，所有与term构成二元列表的doc构成的列表作为值。字典排序后追加到index。***"
   ]
  },
  {
   "cell_type": "code",
   "execution_count": null,
   "metadata": {},
   "outputs": [],
   "source": [
    "    def invert_write(self, td_pairs, index):\n",
    "        \"\"\"\n",
    "        See the statement in the document.\n",
    "        \"\"\"\n",
    "        result = {}\n",
    "        for [term_id, doc_id] in td_pairs:\n",
    "            if term_id not in result.keys():\n",
    "                result[term_id] = []\n",
    "            result[term_id].append(doc_id)\n",
    "        term_id_list = sorted(result.keys())\n",
    "        for term_id in term_id_list:\n",
    "            doc_id_list = sorted((result[term_id]))\n",
    "            index.append(term_id, doc_id_list)"
   ]
  },
  {
   "cell_type": "markdown",
   "metadata": {},
   "source": [
    "我们可以在测试数据上读取一个块并观察倒排索引中包含的内容。\n",
    "仿照`InvertedIndexWriter`部分写一些测试样例。 (2%)"
   ]
  },
  {
   "cell_type": "code",
   "execution_count": null,
   "metadata": {},
   "outputs": [],
   "source": [
    "### Begin your code\n",
    "\n",
    "### End your code"
   ]
  },
  {
   "cell_type": "markdown",
   "metadata": {},
   "source": [
    "***测试代码***"
   ]
  },
  {
   "cell_type": "code",
   "execution_count": null,
   "metadata": {},
   "outputs": [],
   "source": [
    "with open('toy-data/0/fine.txt', 'r') as f:\n",
    "    print(f.read())\n",
    "with open('toy-data/0/hello.txt', 'r') as f:\n",
    "    print(f.read())\n",
    "\n",
    "BSBI_instance = BSBIIndex(data_dir=\"toy-data\", output_dir = 'tmp/', index_name = 'toy')\n",
    "pair_list = BSBI_instance.parse_block('0')\n",
    "print(pair_list)\n",
    "\n",
    "with InvertedIndexWriter('test', directory='temp') as index:\n",
    "    BSBI_instance.invert_write(pair_list, index)\n",
    "    print(index.postings_dict)"
   ]
  },
  {
   "cell_type": "markdown",
   "metadata": {},
   "source": [
    "***测试结果***\n",
    "\n",
    "i'm fine , thank you\n",
    "\n",
    "hi hi\n",
    "how are you ?\n",
    "\n",
    "[[0, 0], [1, 0], [2, 0], [3, 0], [4, 0], [5, 1], [5, 1], [6, 1], [7, 1], [4, 1], [8, 1]]\n",
    "\n",
    "{0: (0, 1, 4), 1: (4, 1, 4), 2: (8, 1, 4), 3: (12, 1, 4), 4: (16, 2, 8), 5: (24, 2, 8), 6: (32, 1, 4), 7: (36, 1, 4), 8: (40, 1, 4)}"
   ]
  },
  {
   "cell_type": "markdown",
   "metadata": {},
   "source": [
    "### 合并 (10%)\n",
    "> The algorithm simultaneously merges the ten blocks into one large merged index. To do the merging, we open all block files simultaneously, and maintain small read buffers for the ten blocks we are reading and a write buffer for the final merged index we are writing. \n",
    "\n",
    "Python中的迭代模型非常自然地符合我们维护一个小的读缓存的要求。我们可以迭代地从磁盘上每次读取文件的一个倒排列表。我们通过构建`InvertedIndex`的子类`InvertedIndexIterator`来完成这个迭代任务。 (3%)"
   ]
  },
  {
   "cell_type": "code",
   "execution_count": null,
   "metadata": {},
   "outputs": [],
   "source": [
    "class InvertedIndexIterator(InvertedIndex):\n",
    "    \"\"\"\"\"\"\n",
    "    def __enter__(self):\n",
    "        \"\"\"Adds an initialization_hook to the __enter__ function of super class\n",
    "        \"\"\"\n",
    "        super().__enter__()\n",
    "        self._initialization_hook()\n",
    "        return self\n",
    "\n",
    "    def _initialization_hook(self):\n",
    "        \"\"\"Use this function to initialize the iterator\n",
    "        \"\"\"\n",
    "        ### Begin your code\n",
    "\n",
    "        ### End your code\n",
    "\n",
    "    def __iter__(self): \n",
    "        return self\n",
    "    \n",
    "    def __next__(self):\n",
    "        \"\"\"Returns the next (term, postings_list) pair in the index.\n",
    "        \n",
    "        Note: This function should only read a small amount of data from the \n",
    "        index file. In particular, you should not try to maintain the full \n",
    "        index file in memory.\n",
    "        \"\"\"\n",
    "        ### Begin your code\n",
    "\n",
    "        ### End your code\n",
    "\n",
    "    def delete_from_disk(self):\n",
    "        \"\"\"Marks the index for deletion upon exit. Useful for temporary indices\n",
    "        \"\"\"\n",
    "        self.delete_upon_exit = True\n",
    "\n",
    "    def __exit__(self, exception_type, exception_value, traceback):\n",
    "        \"\"\"Delete the index file upon exiting the context along with the\n",
    "        functions of the super class __exit__ function\"\"\"\n",
    "        self.index_file.close()\n",
    "        if hasattr(self, 'delete_upon_exit') and self.delete_upon_exit:\n",
    "            os.remove(self.index_file_path)\n",
    "            os.remove(self.metadata_file_path)\n",
    "        else:\n",
    "            with open(self.metadata_file_path, 'wb') as f:\n",
    "                pkl.dump([self.postings_dict, self.terms], f)"
   ]
  },
  {
   "cell_type": "markdown",
   "metadata": {},
   "source": [
    "***代码***\n",
    "\n",
    "***初始化term位置，遍历terms中的term，从postings_dict中取出索引信息，根据索引信息在索引文件中取出encoded_postings_list并解码，\n",
    "最终返回term和postings_list。***"
   ]
  },
  {
   "cell_type": "code",
   "execution_count": null,
   "metadata": {},
   "outputs": [],
   "source": [
    "    def _initialization_hook(self):\n",
    "        self.current_term_index = 0\n",
    "    def __next__(self):\n",
    "        if self.current_term_index < len(self.terms):\n",
    "            term = self.terms[self.current_term_index]\n",
    "            (start_position_in_index_file, number_of_postings_in_list,\n",
    "             length_in_bytes_of_postings_list) = self.postings_dict[term]\n",
    "            self.index_file.seek(start_position_in_index_file)\n",
    "            encoded_postings_list = self.index_file.read(length_in_bytes_of_postings_list)\n",
    "            postings_list = self.postings_encoding.decode(encoded_postings_list)\n",
    "            return term, postings_list\n",
    "        else:\n",
    "            raise StopIteration"
   ]
  },
  {
   "cell_type": "markdown",
   "metadata": {},
   "source": [
    "为了测试以上代码，我们先用`InvertedIndexWriter` 创建索引，然后再迭代遍历。写一些小的测试样例观察它是否正常运行。至少你得写一个测试，手工构建一个小的索引，用`InvertedIndexWriter`将他们写入磁盘，然后用`InvertedIndexIterator`迭代遍历倒排索引。 (2%)"
   ]
  },
  {
   "cell_type": "markdown",
   "metadata": {},
   "source": [
    "***测试代码***"
   ]
  },
  {
   "cell_type": "code",
   "execution_count": null,
   "metadata": {},
   "outputs": [],
   "source": [
    "with InvertedIndexWriter('test', directory='temp') as index:\n",
    "    index.append(1, [2, 3, 4])\n",
    "    index.append(2, [3, 4, 5])\n",
    "    index.index_file.seek(0)\n",
    "    assert index.terms == [1,2], \"terms sequence incorrect\"\n",
    "    assert index.postings_dict == {1: (0, 3, len(UncompressedPostings.encode([2,3,4]))),\n",
    "                                   2: (len(UncompressedPostings.encode([2,3,4])), 3,\n",
    "                                       len(UncompressedPostings.encode([3,4,5])))}, \"postings_dict incorrect\"\n",
    "    assert UncompressedPostings.decode(index.index_file.read()) == [2, 3, 4, 3, 4, 5], \"postings on disk incorrect\"\n",
    "\n",
    "with InvertedIndexIterator('test', directory='temp') as iterator:\n",
    "    for term, postings_list in iterator:\n",
    "        print(term, end='')\n",
    "        print(postings_list)"
   ]
  },
  {
   "cell_type": "markdown",
   "metadata": {},
   "source": [
    "***测试结果***\n",
    "\n",
    "1[2, 3, 4]\n",
    "\n",
    "2[3, 4, 5]"
   ]
  },
  {
   "cell_type": "markdown",
   "metadata": {},
   "source": [
    "> During merging, in each iteration, we select the lowest termID that has not been processed yet using a priority queue or a similar data structure. All postings lists for this termID are read and merged, and the merged list is written back to disk. Each read buffer is refilled from its file when necessary.\n",
    "\n",
    "我们将使用`InvertedIndexIterator`来完成读取的部分，用`InvertedIndexWriter`来将合并后的索引写入磁盘。\n",
    "\n",
    "注意到我们之前一直使用`with` 语句来打开倒排索引文件，但是现在需要程序化地完成这项工作。可以看到我们在基类`BSBIIndex`的`index`函数中使用了`contextlib`([参考文档](https://docs.python.org/3/library/contextlib.html#contextlib.ExitStack))\n",
    "你的任务是合并*打开的*`InvertedIndexIterator`对象（倒排列表），并且通过一个`InvertedIndexWriter`对象每次写入一个文档列表。\n",
    "\n",
    "既然我们知道文档列表已经排过序了，那么我们可以在线性时间内对它们进行合并排序。事实上`heapq`([参考文档](https://docs.python.org/3.0/library/heapq.html)) 是Python中一个实现了堆排序算法的标准模板。另外它还包含一个实用的函数`heapq.merge`，可以将多个已排好序的输入（可迭代）合并成一个有序的输出并返回它的迭代器。它不仅可以用来合并倒排列表，也可以合并倒排索引词典。\n",
    "\n",
    "为了让你快速上手`heapq.merge`函数，我们提供了一个简单的使用样例。给出两个以动物和树平均寿命排序的列表，我们希望合并它们。"
   ]
  },
  {
   "cell_type": "code",
   "execution_count": 1,
   "metadata": {},
   "outputs": [
    {
     "name": "stdout",
     "output_type": "stream",
     "text": [
      "('Giraffe', 28)\n",
      "('Rhinoceros', 40)\n",
      "('Gray Birch', 50)\n",
      "('Indian Elephant', 70)\n",
      "('Black Willow', 70)\n",
      "('Golden Eagle', 80)\n",
      "('Basswood', 100)\n",
      "('Box turtle', 123)\n",
      "('Bald Cypress', 600)\n"
     ]
    }
   ],
   "source": [
    "import heapq\n",
    "animal_lifespans = [('Giraffe', 28), \n",
    "                   ('Rhinoceros', 40), \n",
    "                   ('Indian Elephant', 70), \n",
    "                   ('Golden Eagle', 80), \n",
    "                   ('Box turtle', 123)]\n",
    "\n",
    "tree_lifespans = [('Gray Birch', 50), \n",
    "                  ('Black Willow', 70), \n",
    "                  ('Basswood', 100),\n",
    "                  ('Bald Cypress', 600)]\n",
    "\n",
    "lifespan_lists = [animal_lifespans, tree_lifespans]\n",
    "\n",
    "for merged_item in heapq.merge(*lifespan_lists, key=lambda x: x[1]):\n",
    "    print(merged_item)"
   ]
  },
  {
   "cell_type": "markdown",
   "metadata": {},
   "source": [
    "注意使用`*`将`lifespan_lists`解包作为参数，并且使用`lambda`函数来给出进行排序的key。如果你对它们不熟悉可以参考文档([unpacking lists](https://docs.python.org/3/tutorial/controlflow.html#unpacking-argument-lists), [lambda expressions](https://docs.python.org/3/tutorial/controlflow.html#lambda-expressions))。 (3%)"
   ]
  },
  {
   "cell_type": "code",
   "execution_count": null,
   "metadata": {},
   "outputs": [],
   "source": [
    "import heapq\n",
    "class BSBIIndex(BSBIIndex):\n",
    "    def merge(self, indices, merged_index):\n",
    "        \"\"\"Merges multiple inverted indices into a single index\n",
    "        \n",
    "        Parameters\n",
    "        ----------\n",
    "        indices: List[InvertedIndexIterator]\n",
    "            A list of InvertedIndexIterator objects, each representing an\n",
    "            iterable inverted index for a block\n",
    "        merged_index: InvertedIndexWriter\n",
    "            An instance of InvertedIndexWriter object into which each merged \n",
    "            postings list is written out one at a time\n",
    "        \"\"\"\n",
    "        ### Begin your code\n",
    "\n",
    "        ### End your code"
   ]
  },
  {
   "cell_type": "markdown",
   "metadata": {},
   "source": [
    "***代码***\n",
    "\n",
    "***heapq合并后的term, postings_list对列表是有序的，遍历，相同term的postings_list合并，遍历到新的term时，将原本的term和postings_list\n",
    "追加到writer后。***"
   ]
  },
  {
   "cell_type": "code",
   "execution_count": null,
   "metadata": {},
   "outputs": [],
   "source": [
    "    def merge(self, indices, merge_index):\n",
    "        \"\"\"\n",
    "        See the statement in the document.\n",
    "        \"\"\"\n",
    "        current_term = None\n",
    "        current_postings_list = None\n",
    "        for term, postings_list in heapq.merge(*indices):\n",
    "            if term != current_term:\n",
    "                if current_term is not None:\n",
    "                    merge_index.append(current_term, list(sorted(set(current_postings_list))))\n",
    "                current_term = term\n",
    "                current_postings_list = postings_list\n",
    "            else:\n",
    "                current_postings_list += postings_list\n",
    "        if current_term is not None:\n",
    "            merge_index.append(current_term, list(sorted((set(current_postings_list)))))"
   ]
  },
  {
   "cell_type": "markdown",
   "metadata": {},
   "source": [
    "首先确保它在测试数据上正常运行"
   ]
  },
  {
   "cell_type": "code",
   "execution_count": null,
   "metadata": {},
   "outputs": [],
   "source": [
    "BSBI_instance = BSBIIndex(data_dir=toy_dir, output_dir = 'toy_output_dir', )\n",
    "BSBI_instance.index()"
   ]
  },
  {
   "cell_type": "markdown",
   "metadata": {},
   "source": [
    "接下来对整个数据集构建索引 (2%)"
   ]
  },
  {
   "cell_type": "code",
   "execution_count": null,
   "metadata": {},
   "outputs": [],
   "source": [
    "BSBI_instance = BSBIIndex(data_dir='pa1-data', output_dir = 'output_dir', )\n",
    "BSBI_instance.index()"
   ]
  },
  {
   "cell_type": "markdown",
   "metadata": {},
   "source": [
    "***通过***"
   ]
  },
  {
   "cell_type": "markdown",
   "metadata": {},
   "source": [
    "如果你在合并阶段出现了错误，可以利用以下代码来debug。"
   ]
  },
  {
   "cell_type": "code",
   "execution_count": null,
   "metadata": {},
   "outputs": [],
   "source": [
    "BSBI_instance = BSBIIndex(data_dir='pa1-data', output_dir = 'output_dir', )\n",
    "BSBI_instance.intermediate_indices = ['index_'+str(i) for i in range(10)]\n",
    "with InvertedIndexWriter(BSBI_instance.index_name, directory=BSBI_instance.output_dir, postings_encoding=BSBI_instance.postings_encoding) as merged_index:\n",
    "    with contextlib.ExitStack() as stack:\n",
    "        indices = [stack.enter_context(InvertedIndexIterator(index_id, directory=BSBI_instance.output_dir, postings_encoding=BSBI_instance.postings_encoding)) for index_id in BSBI_instance.intermediate_indices]\n",
    "        BSBI_instance.merge(indices, merged_index)"
   ]
  },
  {
   "cell_type": "markdown",
   "metadata": {},
   "source": [
    "## 布尔联合检索 (10%)\n",
    "\n",
    "我们将实现BSBIIndex中的`retrieve`函数，对于给定的包含由空格分隔tokens的字符串查询，返回包含查询中所有tokens的文档列表。但是我们并不能迭代遍历整个索引或者将整个索引加载到内存来寻找相应的terms（索引太大）。\n",
    "\n",
    "首先我们要实现`InvertedIndex`的子类`InvertedIndexMapper`，它能够找到对应terms在索引文件中位置并取出它的倒排记录表。 (2%)"
   ]
  },
  {
   "cell_type": "code",
   "execution_count": null,
   "metadata": {},
   "outputs": [],
   "source": [
    "class InvertedIndexMapper(InvertedIndex):\n",
    "    def __getitem__(self, key):\n",
    "        return self._get_postings_list(key)\n",
    "    \n",
    "    def _get_postings_list(self, term):\n",
    "        \"\"\"Gets a postings list (of docIds) for `term`.\n",
    "        \n",
    "        This function should not iterate through the index file.\n",
    "        I.e., it should only have to read the bytes from the index file\n",
    "        corresponding to the postings list for the requested term.\n",
    "        \"\"\""
   ]
  },
  {
   "cell_type": "markdown",
   "metadata": {},
   "source": [
    "***代码***\n",
    "\n",
    "***主体思想参见InvertedIndexIterator.\\__next()__。***"
   ]
  },
  {
   "cell_type": "code",
   "execution_count": null,
   "metadata": {},
   "outputs": [],
   "source": [
    "    def __getitem__(self, term):\n",
    "        \"\"\"\n",
    "        Statement in document.\n",
    "        \"\"\"\n",
    "        (start_position_in_index_file, number_of_postings_in_list,\n",
    "         length_in_bytes_of_postings_list) = self.postings_dict[term]\n",
    "        self.index_file.seek(start_position_in_index_file)\n",
    "        encoded_postings_list = self.index_file.read(length_in_bytes_of_postings_list)\n",
    "        postings_list = self.postings_encoding.decode(encoded_postings_list)\n",
    "        return postings_list"
   ]
  },
  {
   "cell_type": "markdown",
   "metadata": {},
   "source": [
    "写一些测试样例检测`_get_postings_list`的实现 (1%)"
   ]
  },
  {
   "cell_type": "markdown",
   "metadata": {},
   "source": [
    "***测试代码***"
   ]
  },
  {
   "cell_type": "code",
   "execution_count": null,
   "metadata": {},
   "outputs": [],
   "source": [
    "with InvertedIndexWriter('test', directory='temp') as index:\n",
    "    index.append(1, [2, 3, 4])\n",
    "    index.append(2, [3, 4, 5])\n",
    "    index.index_file.seek(0)\n",
    "    assert index.terms == [1,2], \"terms sequence incorrect\"\n",
    "    assert index.postings_dict == {1: (0, 3, len(UncompressedPostings.encode([2,3,4]))),\n",
    "                                   2: (len(UncompressedPostings.encode([2,3,4])), 3,\n",
    "                                       len(UncompressedPostings.encode([3,4,5])))}, \"postings_dict incorrect\"\n",
    "    assert UncompressedPostings.decode(index.index_file.read()) == [2, 3, 4, 3, 4, 5], \"postings on disk incorrect\"\n",
    "\n",
    "with InvertedIndexIterator('test', directory='temp') as iterator:\n",
    "    for term, postings_list in iterator:\n",
    "        print(term, end='')\n",
    "        print(postings_list)\n",
    "\n",
    "with InvertedIndexMapper('test', directory='temp') as mapper:\n",
    "    print(mapper[1])\n",
    "    print(mapper[2])"
   ]
  },
  {
   "cell_type": "markdown",
   "metadata": {},
   "source": [
    "***运行结果***\n",
    "\n",
    "1[2, 3, 4]\n",
    "\n",
    "2[3, 4, 5]\n",
    "\n",
    "[2, 3, 4]\n",
    "\n",
    "[3, 4, 5]"
   ]
  },
  {
   "cell_type": "markdown",
   "metadata": {},
   "source": [
    "现在我们获得了查询中terms对应的倒排记录表，接着需要求他们的交集。这部分与我们之前作业的merge方法类似，请实现`sorted_intersect`函数，遍历两个有序列表并在线性时间内合并。 (2%)"
   ]
  },
  {
   "cell_type": "code",
   "execution_count": null,
   "metadata": {},
   "outputs": [],
   "source": [
    "def sorted_intersect(list1, list2):\n",
    "    \"\"\"Intersects two (ascending) sorted lists and returns the sorted result\n",
    "    \n",
    "    Parameters\n",
    "    ----------\n",
    "    list1: List[Comparable]\n",
    "    list2: List[Comparable]\n",
    "        Sorted lists to be intersected\n",
    "        \n",
    "    Returns\n",
    "    -------\n",
    "    List[Comparable]\n",
    "        Sorted intersection        \n",
    "    \"\"\""
   ]
  },
  {
   "cell_type": "markdown",
   "metadata": {},
   "source": [
    "***代码***\n",
    "\n",
    "***两个指针分别遍历两表，相同则加入结果，不同则小的一方指针增加***"
   ]
  },
  {
   "cell_type": "code",
   "execution_count": null,
   "metadata": {},
   "outputs": [],
   "source": [
    "    def sorted_intersect(list1, list2):\n",
    "    \"\"\"\n",
    "    statement in document.\n",
    "    \"\"\"\n",
    "    index_1 = 0\n",
    "    index_2 = 0\n",
    "    result = []\n",
    "    while index_1 < len(list1) and index_2 < len(list2):\n",
    "        if list1[index_1] == list2[index_2]:\n",
    "            result.append(list1[index_1])\n",
    "            index_1 += 1\n",
    "            index_2 += 1\n",
    "        elif list1[index_1] < list2[index_2]:\n",
    "            index_1 += 1\n",
    "        elif list1[index_1] > list2[index_2]:\n",
    "            index_2 += 1\n",
    "    return result"
   ]
  },
  {
   "cell_type": "markdown",
   "metadata": {},
   "source": [
    "简单的测试样例 (1%)"
   ]
  },
  {
   "cell_type": "markdown",
   "metadata": {},
   "source": [
    "***测试代码***\n",
    "\n",
    "***结果***\n",
    "\n",
    "[3, 5, 6]"
   ]
  },
  {
   "cell_type": "code",
   "execution_count": null,
   "metadata": {},
   "outputs": [],
   "source": [
    "l1 = [1, 2, 3, 4, 5, 6, 7, 8]\n",
    "l2 = [3, 5, 6, 10, 22]\n",
    "print(sorted_intersect(l1, l2))"
   ]
  },
  {
   "cell_type": "markdown",
   "metadata": {},
   "source": [
    "现在可以利用`sorted_intersect` 和 `InvertedIndexMapper`来实现`retrieve`函数。 (3%)"
   ]
  },
  {
   "cell_type": "code",
   "execution_count": null,
   "metadata": {},
   "outputs": [],
   "source": [
    "%%tee submission/retrieve.py\n",
    "class BSBIIndex(BSBIIndex):\n",
    "    def retrieve(self, query):\n",
    "        \"\"\"Retrieves the documents corresponding to the conjunctive query\n",
    "        \n",
    "        Parameters\n",
    "        ----------\n",
    "        query: str\n",
    "            Space separated list of query tokens\n",
    "            \n",
    "        Result\n",
    "        ------\n",
    "        List[str]\n",
    "            Sorted list of documents which contains each of the query tokens. \n",
    "            Should be empty if no documents are found.\n",
    "        \n",
    "        Should NOT throw errors for terms not in corpus\n",
    "        \"\"\"\n",
    "        if len(self.term_id_map) == 0 or len(self.doc_id_map) == 0:\n",
    "            self.load()"
   ]
  },
  {
   "cell_type": "markdown",
   "metadata": {},
   "source": [
    "***代码***\n",
    "\n",
    "***将查询的字符串分词，对每个词映射ID，通过mapper查找对应的postings_list，交集返回。若存在查询中的词不在索引中，返回空列表。***"
   ]
  },
  {
   "cell_type": "code",
   "execution_count": null,
   "metadata": {},
   "outputs": [],
   "source": [
    "    def retrieve(self, query):\n",
    "        \"\"\"\n",
    "        statement in document.\n",
    "        \"\"\"\n",
    "\n",
    "        if len(self.term_id_map) == 0 or len(self.doc_id_map) == 0:\n",
    "            self.load()\n",
    "\n",
    "        with InvertedIndexMapper(self.index_name, directory=self.output_dir,\n",
    "                                 postings_encoding=self.postings_encoding) as mapper:\n",
    "            result_postings_list = None\n",
    "            query_term_list = query.split()\n",
    "            for query_term in query_term_list:\n",
    "                query_term_id = self.term_id_map.str_to_id.get(query_term)\n",
    "                if query_term_id is None:\n",
    "                    return []\n",
    "                else:\n",
    "                    postings_list = mapper[query_term]\n",
    "                    if result_postings_list is None:\n",
    "                        result_postings_list = postings_list\n",
    "                    else:\n",
    "                        result_postings_list = globalfunction.sorted_intersect(postings_list,\n",
    "                                                                               result_postings_list)\n",
    "\n",
    "            doc_list = []\n",
    "            for doc_id in result_postings_list:\n",
    "                doc = self.doc_id_map.id_to_str(doc_id)\n",
    "                doc_list.append(doc)\n",
    "\n",
    "            return doc_list"
   ]
  },
  {
   "cell_type": "markdown",
   "metadata": {},
   "source": [
    "通过一个简单的查询来测试索引在真实数据集上是否正常工作。"
   ]
  },
  {
   "cell_type": "code",
   "execution_count": null,
   "metadata": {},
   "outputs": [],
   "source": [
    "BSBI_instance = BSBIIndex(data_dir='pa1-data', output_dir = 'output_dir', )\n",
    "BSBI_instance.retrieve('boolean retrieval')"
   ]
  },
  {
   "cell_type": "markdown",
   "metadata": {},
   "source": [
    "***结果***\n",
    "\n",
    "pa1-data\\1\\cs276.stanford.edu_\n",
    "\n",
    "pa1-data\\1\\cs276a.stanford.edu_\n",
    "\n",
    "pa1-data\\3\\infolab.stanford.edu_TR_CS-TN-95-21.html\n",
    "\n",
    "pa1-data\\4\\nlp.stanford.edu_IR-book_\n",
    "\n",
    "pa1-data\\4\\nlp.stanford.edu_IR-book_html_htmledition_an-appraisal-of-probabilistic-models-1.html\n",
    "\n",
    "pa1-data\\4\\nlp.stanford.edu_IR-book_html_htmledition_bayesian-network-approaches-to-ir-1.html\n",
    "\n",
    "pa1-data\\4\\nlp.stanford.edu_IR-book_html_htmledition_boolean-retrieval-2.html\n",
    "\n",
    "pa1-data\\4\\nlp.stanford.edu_IR-book_html_htmledition_computing-scores-in-a-complete-search-system-1.html\n",
    "\n",
    "pa1-data\\4\\nlp.stanford.edu_IR-book_html_htmledition_dictionaries-and-tolerant-retrieval-1.html\n",
    "\n",
    "pa1-data\\4\\nlp.stanford.edu_IR-book_html_htmledition_efficient-scoring-and-ranking-1.html\n",
    "\n",
    "pa1-data\\4\\nlp.stanford.edu_IR-book_html_htmledition_inexact-top-k-document-retrieval-1.html\n",
    "\n",
    "pa1-data\\4\\nlp.stanford.edu_IR-book_html_htmledition_probabilistic-information-retrieval-1.html\n",
    "\n",
    "pa1-data\\4\\nlp.stanford.edu_IR-book_html_htmledition_putting-it-all-together-1.html\n",
    "\n",
    "pa1-data\\4\\nlp.stanford.edu_IR-book_html_htmledition_references-and-further-reading-1.html\n",
    "\n",
    "pa1-data\\4\\nlp.stanford.edu_IR-book_html_htmledition_the-search-user-experience-1.html\n",
    "\n",
    "pa1-data\\4\\nlp.stanford.edu_IR-book_html_htmledition_vector-space-scoring-and-query-operator-interaction-1.html\n",
    "\n",
    "pa1-data\\4\\nlp.stanford.edu_IR-book_html_htmledition_weighted-zone-scoring-1.html\n",
    "\n",
    "pa1-data\\4\\nlp.stanford.edu_IR-book_html_htmledition_wildcard-queries-2.html\n",
    "\n",
    "pa1-data\\4\\nlp.stanford.edu_IR-book_newslides.html\n",
    "\n",
    "pa1-data\\6\\www-nlp.stanford.edu_IR-book_essir2011_\n",
    "\n",
    "pa1-data\\8\\www.stanford.edu_class_cs124_"
   ]
  },
  {
   "cell_type": "markdown",
   "metadata": {},
   "source": [
    "你也可以通过读取文件来测试其中的页面是否真的包含了查询的terms"
   ]
  },
  {
   "cell_type": "code",
   "execution_count": null,
   "metadata": {},
   "outputs": [],
   "source": [
    "with open(\"pa1-data/1/cs276.stanford.edu_\", 'r') as f:\n",
    "    print(f.read())"
   ]
  },
  {
   "cell_type": "markdown",
   "metadata": {},
   "source": [
    "测试dev queries（提前构建好的查询与结果）是否正确 (1%)"
   ]
  },
  {
   "cell_type": "code",
   "execution_count": null,
   "metadata": {},
   "outputs": [],
   "source": [
    "for i in range(1, 9):\n",
    "    with open('dev_queries/query.' + str(i)) as q:\n",
    "        query = q.read()\n",
    "        my_results = [os.path.normpath(path) for path in BSBI_instance.retrieve(query)]\n",
    "        with open('dev_output/' + str(i) + '.out') as o:\n",
    "            reference_results = [os.path.normpath(x.strip()) for x in o.readlines()]\n",
    "            assert my_results == reference_results, \"Results DO NOT match for query: \"+query.strip()\n",
    "        print(\"Results match for query:\", query.strip())"
   ]
  },
  {
   "cell_type": "markdown",
   "metadata": {},
   "source": [
    "***结果***\n",
    "\n",
    "Results match for query: we are\n",
    "\n",
    "Results match for query: stanford class\n",
    "\n",
    "Results match for query: stanford students\n",
    "\n",
    "Results match for query: very cool\n",
    "\n",
    "Results match for query: the\n",
    "\n",
    "Results match for query: a\n",
    "\n",
    "Results match for query: the the\n",
    "\n",
    "Results match for query: stanford computer science"
   ]
  },
  {
   "cell_type": "markdown",
   "metadata": {},
   "source": [
    "如果出现了错误，可以通过以下代码比较输出与正确结果的差异"
   ]
  },
  {
   "cell_type": "code",
   "execution_count": null,
   "metadata": {},
   "outputs": [],
   "source": [
    "set(my_results) - set(reference_results)"
   ]
  },
  {
   "cell_type": "code",
   "execution_count": null,
   "metadata": {},
   "outputs": [],
   "source": [
    "set(reference_results) - set(my_results)"
   ]
  },
  {
   "cell_type": "markdown",
   "metadata": {},
   "source": [
    "确保你构建自己的查询来测试所有可能的边界情况，例如数据集中没有出现的terms，或者拖慢合并的频繁出现的terms。"
   ]
  },
  {
   "cell_type": "markdown",
   "metadata": {},
   "source": [
    "# 索引压缩  (30%)"
   ]
  },
  {
   "cell_type": "markdown",
   "metadata": {},
   "source": [
    "在这部分，你将使用可变长字节编码对索引进行压缩。（gap-encoding可选，对gap进行编码）\n",
    "\n",
    "下面几个Python运算符可能对你有帮助"
   ]
  },
  {
   "cell_type": "code",
   "execution_count": null,
   "metadata": {},
   "outputs": [],
   "source": [
    "# Remainder (modulo) operator %\n",
    "\n",
    "print(\"10 % 2 = \", 10 % 2)\n",
    "print(\"10 % 3 = \", 10 % 3)\n",
    "\n",
    "# Integer division in Python 3 is done by using two slash signs\n",
    "\n",
    "print(\"10 / 3 = \", 10 / 3)\n",
    "print(\"10 // 3 = \", 10 // 3)"
   ]
  },
  {
   "cell_type": "markdown",
   "metadata": {},
   "source": [
    "完成下面的`CompressedPostings`类，我们将用它来替换`UncompressedPostings`。关于如何使用gap-encoding和可变长字节编码，你可以参考老师课件或者[Chapter 5](https://nlp.stanford.edu/IR-book/pdf/05comp.pdf)。 (18%)"
   ]
  },
  {
   "cell_type": "code",
   "execution_count": null,
   "metadata": {},
   "outputs": [],
   "source": [
    "class CompressedPostings:\n",
    "    #If you need any extra helper methods you can add them here \n",
    "    ### Begin your code\n",
    "\n",
    "    ### End your code\n",
    "    \n",
    "    @staticmethod\n",
    "    def encode(postings_list):\n",
    "        \"\"\"Encodes `postings_list` using gap encoding with variable byte \n",
    "        encoding for each gap\n",
    "        \n",
    "        Parameters\n",
    "        ----------\n",
    "        postings_list: List[int]\n",
    "            The postings list to be encoded\n",
    "        \n",
    "        Returns\n",
    "        -------\n",
    "        bytes: \n",
    "            Bytes reprsentation of the compressed postings list \n",
    "            (as produced by `array.tobytes` function)\n",
    "        \"\"\"\n",
    "        ### Begin your code\n",
    "\n",
    "        ### End your code\n",
    "\n",
    "        \n",
    "    @staticmethod\n",
    "    def decode(encoded_postings_list):\n",
    "        \"\"\"Decodes a byte representation of compressed postings list\n",
    "        \n",
    "        Parameters\n",
    "        ----------\n",
    "        encoded_postings_list: bytes\n",
    "            Bytes representation as produced by `CompressedPostings.encode` \n",
    "            \n",
    "        Returns\n",
    "        -------\n",
    "        List[int]\n",
    "            Decoded postings list (each posting is a docIds)\n",
    "        \"\"\"\n",
    "        ### Begin your code\n",
    "\n",
    "        ### End your code"
   ]
  },
  {
   "cell_type": "markdown",
   "metadata": {},
   "source": [
    "***索引压缩类：Gama编码***\n",
    "\n",
    "***Gama编码，将二进制表示的数字去掉最高位，将与剩余部分长度相等的全1字符串与剩余部分拼接，中间用0间隔。编码时，读入postings_list的每个\n",
    "数字，除第一项外，其余均表示为与前一项的差。由于Gama编码不支持数字1，所以对每一项加1后转换为对应的Gama编码。拼接所有Gama编码，前面用0补齐\n",
    "使长度为8的倍数。对该字符串按8位切分转化为二进制列表，最后转化为字节。解码过程为编码的逆过程，此处不再赘述。***"
   ]
  },
  {
   "cell_type": "code",
   "execution_count": null,
   "metadata": {},
   "outputs": [],
   "source": [
    "class CompressedPostings:\n",
    "    @staticmethod\n",
    "    def gama_encode(number):\n",
    "        temp = bin(number)[2:]\n",
    "        result = (len(temp) - 1) * '1' + '0' + temp[1:]\n",
    "        return result\n",
    "\n",
    "    @staticmethod\n",
    "    def encode(postings_list):\n",
    "        gap_list = [CompressedPostings.gama_encode(postings_list[0] + 1)]\n",
    "        for i in range(1, len(postings_list)):\n",
    "            gap_list.append(CompressedPostings.gama_encode(postings_list[i] - postings_list[i - 1] + 1))\n",
    "        code_str = ''\n",
    "        for g in gap_list:\n",
    "            code_str += g\n",
    "        code_str = ((8 - (len(code_str) % 8)) % 8) * '0' + code_str\n",
    "        byte_stream = bytearray()\n",
    "        for i in range(0, len(code_str), 8):\n",
    "            byte_stream.append(int(code_str[i: i + 8], 2))\n",
    "        return array.array('B', byte_stream).tobytes()\n",
    "\n",
    "    @staticmethod\n",
    "    def decode(encode_postings_list):\n",
    "        byte_stream = array.array('B')\n",
    "        byte_stream.frombytes(encode_postings_list)\n",
    "        code_str = ''\n",
    "        for byte in byte_stream:\n",
    "            byte_str = bin(byte)[2:].zfill(8)\n",
    "            code_str += byte_str\n",
    "        start_index = 0\n",
    "        gap_list = []\n",
    "        for i in range(0, len(code_str)):\n",
    "            if code_str[i] == '1':\n",
    "                start_index = i\n",
    "                break\n",
    "        while start_index < len(code_str):\n",
    "            separator_index = start_index\n",
    "            while code_str[separator_index] != '0':\n",
    "                separator_index += 1\n",
    "            piece_len = separator_index - start_index\n",
    "            end_index = separator_index + piece_len + 1\n",
    "            gap_list.append(int(('1' + code_str[separator_index + 1: end_index]), 2) - 1)\n",
    "            start_index = end_index\n",
    "        decoded_postings_list = [gap_list[0]]\n",
    "        for i in range(1, len(gap_list)):\n",
    "            decoded_postings_list.append(gap_list[i] + decoded_postings_list[-1])\n",
    "        return decoded_postings_list\n"
   ]
  },
  {
   "cell_type": "markdown",
   "metadata": {},
   "source": [
    "首先，如果你实现了额外的辅助函数，写一些测试样例"
   ]
  },
  {
   "cell_type": "code",
   "execution_count": null,
   "metadata": {},
   "outputs": [],
   "source": [
    "### Begin your code\n",
    "\n",
    "### End your code"
   ]
  },
  {
   "cell_type": "markdown",
   "metadata": {},
   "source": [
    "我们实现了一个简单的函数来测试你编码的列表是否被正确解码"
   ]
  },
  {
   "cell_type": "code",
   "execution_count": null,
   "metadata": {},
   "outputs": [],
   "source": [
    "def test_encode_decode(l):\n",
    "    e = CompressedPostings.encode(l)\n",
    "    d = CompressedPostings.decode(e)\n",
    "    assert d == l\n",
    "    print(l, e)"
   ]
  },
  {
   "cell_type": "markdown",
   "metadata": {},
   "source": [
    "写一些测试样例来确保文档列表的压缩和解压正常运行 (2%)"
   ]
  },
  {
   "cell_type": "code",
   "execution_count": null,
   "metadata": {},
   "outputs": [],
   "source": [
    "### Begin your code\n",
    "\n",
    "### End your code"
   ]
  },
  {
   "cell_type": "markdown",
   "metadata": {},
   "source": [
    "***测试代码***"
   ]
  },
  {
   "cell_type": "code",
   "execution_count": null,
   "metadata": {},
   "outputs": [],
   "source": [
    "def test_encode_decode(l):\n",
    "    print(l)\n",
    "    e = CompressedPostings.encode(l)\n",
    "    print(e)\n",
    "    d = CompressedPostings.decode(e)\n",
    "    print(d)\n",
    "    assert d == l\n",
    "    print(l, e)\n",
    "\n",
    "test_encode_decode([1, 2, 3, 4, 5, 6])\n",
    "print('-' * 30)\n",
    "test_encode_decode([33, 56, 535, 666])"
   ]
  },
  {
   "cell_type": "markdown",
   "metadata": {},
   "source": [
    "***运行结果：成功***\n",
    "\n",
    "[1, 2, 3, 4, 5, 6]\n",
    "\n",
    "b'\\x02I$'\n",
    "\n",
    "[1, 2, 3, 4, 5, 6]\n",
    "\n",
    "\n",
    "[1, 2, 3, 4, 5, 6] b'\\x02I$'\n",
    "\n",
    "------------------------------\n",
    "\n",
    "[33, 56, 535, 666]\n",
    "\n",
    "b'\\x0f\\x85\\xe8\\xffp\\x7f\\x04'\n",
    "\n",
    "[33, 56, 535, 666]\n",
    "\n",
    "[33, 56, 535, 666] b'\\x0f\\x85\\xe8\\xffp\\x7f\\x04'"
   ]
  },
  {
   "cell_type": "markdown",
   "metadata": {},
   "source": [
    "现在让我们创建一个新的输出文件夹并使用`CompressedPostings`来构建压缩索引"
   ]
  },
  {
   "cell_type": "code",
   "execution_count": null,
   "metadata": {},
   "outputs": [],
   "source": [
    "try: \n",
    "    os.mkdir('output_dir_compressed')\n",
    "except FileExistsError:\n",
    "    pass"
   ]
  },
  {
   "cell_type": "code",
   "execution_count": null,
   "metadata": {},
   "outputs": [],
   "source": [
    "BSBI_instance_compressed = BSBIIndex(data_dir='pa1-data', output_dir = 'output_dir_compressed', postings_encoding=CompressedPostings)\n",
    "BSBI_instance_compressed.index()"
   ]
  },
  {
   "cell_type": "code",
   "execution_count": null,
   "metadata": {},
   "outputs": [],
   "source": [
    "BSBI_instance_compressed = BSBIIndex(data_dir='pa1-data', output_dir = 'output_dir_compressed', postings_encoding=CompressedPostings)\n",
    "BSBI_instance_compressed.retrieve('boolean retrieval')"
   ]
  },
  {
   "cell_type": "markdown",
   "metadata": {},
   "source": [
    "***运行结果***\n",
    "\n",
    "pa1-data\\1\\cs276.stanford.edu_\n",
    "\n",
    "pa1-data\\1\\cs276a.stanford.edu_\n",
    "\n",
    "pa1-data\\3\\infolab.stanford.edu_TR_CS-TN-95-21.html\n",
    "\n",
    "pa1-data\\4\\nlp.stanford.edu_IR-book_\n",
    "\n",
    "pa1-data\\4\\nlp.stanford.edu_IR-book_html_htmledition_an-appraisal-of-probabilistic-models-1.html\n",
    "\n",
    "pa1-data\\4\\nlp.stanford.edu_IR-book_html_htmledition_bayesian-network-approaches-to-ir-1.html\n",
    "\n",
    "pa1-data\\4\\nlp.stanford.edu_IR-book_html_htmledition_boolean-retrieval-2.html\n",
    "\n",
    "pa1-data\\4\\nlp.stanford.edu_IR-book_html_htmledition_computing-scores-in-a-complete-search-system-1.html\n",
    "\n",
    "pa1-data\\4\\nlp.stanford.edu_IR-book_html_htmledition_dictionaries-and-tolerant-retrieval-1.html\n",
    "\n",
    "pa1-data\\4\\nlp.stanford.edu_IR-book_html_htmledition_efficient-scoring-and-ranking-1.html\n",
    "\n",
    "pa1-data\\4\\nlp.stanford.edu_IR-book_html_htmledition_inexact-top-k-document-retrieval-1.html\n",
    "\n",
    "pa1-data\\4\\nlp.stanford.edu_IR-book_html_htmledition_probabilistic-information-retrieval-1.html\n",
    "\n",
    "pa1-data\\4\\nlp.stanford.edu_IR-book_html_htmledition_putting-it-all-together-1.html\n",
    "\n",
    "pa1-data\\4\\nlp.stanford.edu_IR-book_html_htmledition_references-and-further-reading-1.html\n",
    "\n",
    "pa1-data\\4\\nlp.stanford.edu_IR-book_html_htmledition_the-search-user-experience-1.html\n",
    "\n",
    "pa1-data\\4\\nlp.stanford.edu_IR-book_html_htmledition_vector-space-scoring-and-query-operator-interaction-1.html\n",
    "\n",
    "pa1-data\\4\\nlp.stanford.edu_IR-book_html_htmledition_weighted-zone-scoring-1.html\n",
    "\n",
    "pa1-data\\4\\nlp.stanford.edu_IR-book_html_htmledition_wildcard-queries-2.html\n",
    "\n",
    "pa1-data\\4\\nlp.stanford.edu_IR-book_newslides.html\n",
    "\n",
    "pa1-data\\6\\www-nlp.stanford.edu_IR-book_essir2011_\n",
    "\n",
    "pa1-data\\8\\www.stanford.edu_class_cs124_"
   ]
  },
  {
   "cell_type": "markdown",
   "metadata": {},
   "source": [
    "像之前一样，用已构造好的查询语句来测试是否正常运行 (5%)"
   ]
  },
  {
   "cell_type": "code",
   "execution_count": null,
   "metadata": {},
   "outputs": [],
   "source": [
    "for i in range(1, 9):\n",
    "    with open('dev_queries/query.' + str(i)) as q:\n",
    "        query = q.read()\n",
    "        my_results = [os.path.normpath(path) for path in BSBI_instance_compressed.retrieve(query)]\n",
    "        with open('dev_output/' + str(i) + '.out') as o:\n",
    "            reference_results = [os.path.normpath(x.strip()) for x in o.readlines()]\n",
    "            assert my_results == reference_results, \"Results DO NOT match for query: \"+query.strip()\n",
    "        print(\"Results match for query:\", query.strip())"
   ]
  },
  {
   "cell_type": "markdown",
   "metadata": {},
   "source": [
    "***运行结果***\n",
    "\n",
    "Results match for query: we are\n",
    "\n",
    "Results match for query: stanford class\n",
    "\n",
    "Results match for query: stanford students\n",
    "\n",
    "Results match for query: very cool\n",
    "\n",
    "Results match for query: the\n",
    "\n",
    "Results match for query: a\n",
    "\n",
    "Results match for query: the the\n",
    "\n",
    "Results match for query: stanford computer science"
   ]
  },
  {
   "cell_type": "markdown",
   "metadata": {},
   "source": [
    "请追加压缩前后的文件大小截图 (5%)"
   ]
  },
  {
   "attachments": {},
   "cell_type": "markdown",
   "metadata": {},
   "source": [
    "<img src=\"data:image/png;base64,iVBORw0KGgoAAAANSUhEUgAAAh8AAALYCAYAAADcsJDdAAAAAXNSR0IArs4c6QAAAARnQU1BAACxjwv8YQUAAAAJcEhZcwAADsMAAA7DAcdvqGQAAImESURBVHhe7f0LfB3Vfeh9/y0DIlwMAZP05J7KcoUsevLpaVyR4LghKVXsOiLF5Lyfk885PNgi4bFei+CP3E984PTpBR7z1npNIh/5TYNsnjw9fXIaTIIwdnZpQuoYgur09JMWWTiW1VwgbQnGXA0RIOtd/zVr9p6ZPbP3bGnv0Zb0+8Ky5rbnsma013/WWjNa9MILL0yJcebMGZmasoN2+KWXXhIzT06fPi1vvvmmTE5O2nlx/M/Vk7T7VI/7Xm0L4RgBzB+LFi1yQ/NX2mOsx7wotU+LFy+Ws846S84//3y5+OKLZcmSJdLQ0GDn6efyw88//7wpm6byBdRrr70mTz31lJx99jnmwxfIeeedL+dfcKGcc87Zdr75iPuJmUkKCLLI31oGI7r/BDvplcqrRamvhuS1JM8pvfZpnsNKPjbzg5uG8itLzpeq7si8UumpTLt8ZeLOj7+lpHOn82fzvKbZP1VuH5NyNPi5uGXKza/c62+8Lq+88oqcfvVVOX36FTP+hrz73e+Wt7zlLXa+BiA2nTp1Kh98/OIXv5BfPPusvOtd75G3ve3tdsF41dnJha3cxVZL5S7kSpS7oFFaqbxKH3yo+DUlr99bd9IWZnAOK/1ouYOcwa7EK73C5Hyp+o5kJno05Y5kpstnL2kP/T0rNX82z2ua/VPTPQPRz6XdXvU884tn5Kmnn5bL3naZvP3tXlxhg4/nnnvO7sUzzzwjr732S3n3e94n5557rl2g9qp/oNWVdOKqoRYnP+3+Jm0b9SjtFRF/VuOnFq8zOmUG18gsX17p8ivtTvprm+WDmqFKz+5Ml89e0h7W+/mr1v4lnYHoesttrzZn8pcTv5Sf/uxncu5bzs0HILbxRZtatMYj28BD1esFoeL2rZr7G3eSZ3LiK9nf2lxgqIWp2P/i6FkNnllv3Ks9iaZius4qXd/lN1YTlW0u7ZJVzBfMkoVw/uKOsX6O+9zGc+W973mPPPuLZ228oRq0c+nPTESiTS3ZBh4ofF1W9rVZHUnbi+5T0nKYTUkBiCo+a5WcQ7Ne7f+lq09KdYirtDL+NZI23ypdHojSAOTd73qX/OQnP7EPtTS8+OKLtnNp6T4emJ+CXyl8tcw1sxYHVBqEcFnNulKnK/oNUO50Vbo8shI8y7P27VDS202ccW5jo5w6dUoa9HHaCy640M3CwuKXIuUSZk/cV72fKjk73vKpRDfjp6g6ujSmtytxBzV/1e9vcqV7Vsny9XvUHt2/LPex3PaqsS+l13/BBRfIyy+/LA36Ho/zzj/fzchaPf/yx+3bfNrfLC941E5yH5BiM7x+4z6um66TS2l6u6EHNcN8mUPq77fe36O0e1bp8qhcqbzVeeXmB38GedPOP+88+/6wBn2B2PnnXWAnFvi/kLVO9Y79LW8u5Ev9iJ6hpFSpygKQuDRD5TZfxU2VkjYXitV4x5BCpWdv+mcbWQien8KwvnxM444GfXPpOY3nuMlAGhmVJAtY3eZsqR3T7xfKg1kR/I0sd+1wijCbGs9ptG9MX/TXf/3XU1d+aJWbXNril4Zl8ct/J1N6dZsr2L4UteEsmbz4d2TqvOV2mbByvwaYmejXSCX5zVdQvUg6a+nOkLdU8uvI/LWUuzYquB4yvnSy+xbJ+MCqKJpH5Y6kdnma9nrzxe1pqc/O3XM0tySdg3LnN3p+/OXC0x99/Pveez7SesvY/yZn//xLcvZT/XLW07u89NMvyjlPfFoWvTbulgriQqmduLytJL/TfjksLI+bX4olF55XUQr697/eJvv23efGwj71qU/GztOzFnfm9AyVOkvefP9NHnGCa03aSv0qd/zppD3uuZU39SmYhzPJ80qnI3tx56Ky89Pw0utuKIUzk2/KmakGkxbJ1BmzqTOLzLCZ/uarsnj0f5eGn+2SRT/97zbJTwfyaeonA3Lmx5p2y5lf5NzaFq4tt95ik/IKu7ckFli15X+9R9P8Fcz7Ul56+dWy6Z+eOOqWTqbnVQOSmYg7Q5pKK/EFrrNCKTJt3ggezLw6sLLSXyfVEpe/M8nzhXW+6kFzS4vct2+fG0umy7SsWOHGpkfjjopqPibMB15+dZG89IrIi6fNCnTY/HztzFvlrLd9SM6/6AK5YEmjXHDhYrnwgim58Pw35MLzXpUl570kF513Si56yy/kgtf+2q2tMnopxqUkP/nJj22hrj+rTe9gv/jFnW5sZq688kOmIHtN1q+/3k1BPYir4YimX78i/hdww4035IPJv/zLv5AbN2yww+WUup6rq8xvUcLkvOxKtCordVBzW7nTFU2zL825CC4zf89dvfg/77hDNvX0lAxAdJ4u86d//MdmbGbnp6Lg4+yWbfLW3/r/yqVX7pCl7XfJ0t/6E7nst/5I3vrrN8vZ518m8uZLIpMvm2SiE5teNek1kTOaJmxafJb/13HTK3VYXJKV0NxKkxBX05GUlNZg+TUce+/9qg06NAD5zre/LX/43263wYoOa2ASDGCiNV7VOxslipi0JdD0N17Hornrp7kvu6OoZEszzd+Zfh5pXb9+vezu73cBSHFNvE7TebqMLuspd36S51cWfJzTKPLGKRNkPG9+mvTmC+anSW+agOPM6ya9YbYTk8686c2f0mVMSkFrFrTmQtNFJgVrGvSLXqcFBWs6dNlfv6LVTtefOl15VeAr8k0dfgrWjuj8aIHg13T42/jOt//GFCi32eHosnG0mt/flq4rSqfrPqlgM0zS8p5C6eGt3y/QCutS+nmd5qXzQvO84/Gm+Z/3txdcZzTvdZr/WT8F1+vlc5s7h+flmzminwmuV+ln/HnB4/bX46fg+So1TwWPIzkvi3n5X1hvUvIDjr/7u2H52Mc+ZofVN7/5oPzpn/yx/Mmf3pEPUj728Y/bwCQYuKSp8Sr3652sTISRNgCZ3sZnbBY3jUT+Gan0zHAm54KkACQ+8JiZhODDvzWKJD/ACAYSRYGGJg02dNyf7376nytDC4x79+4xX86v2fSiSf+HKeyjhVWSz39+i/zTE6N2WH/qOnw//vE/y5/92V35df/Jn96ZD1TKed/73m8/87GP/479nA6XKzz0WL7znW/nt/eZz/xnGRz8ipubTO+cdXktxJItMuv/vFn/d/Lr/+uHv+PmeYHU+90+a0H31w9/W373mo+HAgV18+c+a+dr0rtzLVQ/9OGr8p/RO/dCoa7XgkjnJ9e59b5mC1Rdb7Dg13z+2U9/atex8+4v2XnaTKHr87el6/WDNw0MtHnCn7d69W/b6Tr/3r1789N1Wz69HqLzgk0hXt5r3njzvby/x80tTc+r/zk/afAQ3H9N//hPI3Z53Q/NM6U5NOzy+FZzLQZ+g/IpO1XaYrTsCB5MNFVZtsVWDQ5ghmqcvRWIngkCkPkoGoDUIvBQDVP2edmUggGGHTZBhj/uTwvOs9NNsBFNJWghpYXz0IMPuSmevff+3/J/mYCkGoIFugYq73//r+YLwWqKOxYt1DR4KeduU2CXE7d+7UOiyT8eLfh9Or2r6ya57+t/5aZ4vvznhWBI52t++EGVfkb967/+m/m38NVXfEwflwce+Kab4gluu/9LX7S1AP76lI5rkKX+efyf5V3vercdVnpe1NNPPyW/2vSrdljptjQIVBq8DD243w4rneefSy9v7imar/tZjq5DBWtNNGlgpkFWcJqfzxqE+Hmm9Dj/yQUmcWa3EAmoxY7UYJ0LMQDRvYjbk1J7V7t8InBYSIIBSC0CD407Emo+9EKLSTaocCnflBKc5v8MBBqhWg+db36W8K//+q/2y98vYHz/4Td/095Nz5RfsCj/yH61qUmeMoVctSUdi9ZGlBP9TJy///u/t4FM3LJaaH/sY8UFrd6d/9gUzEH/7t/9Ozck8p73vjdU2Cs9hp///Gkz5OeY7t/7QuN6TFrT4Qvms9Jt+n0f/KTjvv/2h/+H7Q8RfTJEgxC/NibaZKS0piO4Tv8amUneB2kwllTzkRTI+LlyqwleLjT75Kdvm+O40RyjP677m52kIstMX6TJGwylKO9UzyFxB1FO4ZqebdnsxUyPt9LPz3R7mC8q6vNRqNXwk1+74VI+yAikfBDi5ulydSB6+b/b3HXP71+J6XwRV0YDl1Ki/R00+bVQWmtgC/SPfcwWylrr4NPpfpNRtMAOrstPwRqISv385z8PBV9ae+IHNtGaDx0vRWt+gvv1cROs3Gvy4GUz7Kc0Z6VULBBM5QXXkrTWgFIbnQXT22yK46xjtc3q4Npn6aSiLvlPtWiNR6EJpvxjuJWoLPiwAUQwuaDCJj/IcD/9QCM/rE+7uOES9C5c7179O1ulXx3/y9zl+3fT/p26LuN/reidbhpxtSfagfQd73ynHdZaEK01CPrn8bgXqJUXdyxK+4BUwzvNPuu+x9EmjOLtLJLvP/aYufvXfAx+KfvDwWmlFR/Td0LNJlFa4/D9xx51Y8m0wNZAQwv94Da0GUMLcL0GtK+HX6MR7b/iS877Qp+YOLqPfu1INHiI6/Mxk0DHF839aKquKq21XFkVPIBomgHdrPen9Ar/pTPdDc9wh2tk5tkZl2/VCEBmtleYfcHAQ5tawn1AqheAVF7zockPNmzNhx9Y+IGG+xkMRmzyP2NSCVqodHV9Vjo/+XtuimfDjf9F/tsf/pG9rLVw0EJo15e+6M00bv7cTW7I4xdOcUFJ8K5ah7Xpwu+LoB0d9UkWnxZ00YAl2sSgvC/FcHqvWU7XrdXvvrj1TZfus64/+BSHFsaa/EIxeKw6XfuI9NzyeTclSfkvj+gxqVIF8fWf/o82oAj2rdFhP3gI7qdPz6GuOxpA+EGONoloTUSQvx79rAYLlea9Bie6r7pvfg1HsKYj2udDU1IAFKXXxLziX+izrpY7MfsHWC6b/eLeT8B0RQMPXy0CkMprPjT5AYgNLvxxMxwMNoIBSDSVoXec2l+h8IjoW2yH02Dhph0etSD153/5z4ufYtAg5nev0Wr8wmO5GrRo84A+qqvpke98W74R6YCqBbq/XqXjQV5B6m1bC6lSXwy6bq05Ca5P96ta/GYLf/16vH4g9Y//dNTWfgTn6Vs5o/01wsPp6JMjfuGrfTf8pz6S6D5prUHwPRf6KKq/r1ro+9O1gA++PTTYr0OfiPGvA71ONADx52kKNv1o3mhHVn+e0uWT+IGRv08avARrOfyaD20+8uf5tXFp+TkdTLU1w62kKc2CB5MmVShauPovlPeTZ5orn0Omf3RxnyzkXNhM83Gmn8dsSQo8fNUOQBZ9/cHcVMdHP+JGSzvvp7fK4rMbzbU1aZI+6aI/k4YD00RrSLzh19+YlIlff8RbYca0cPnTP/kjWyir6K9I0q9jOeV+1aa73upK+4UQ3Nviz+hdvgYHWvDON9rZVZ/80eBDrxV9EkcDGD9wSeIFdF5Nm65DO89q012wQ20SDWL8ALL610ncOS9V6KRUwaIzUT4/MtqROlL5NRLMo7hPl8pDf/mFl88Lkb4yXd9cGhd4BGng8V9vv13Gjh1zUyp34G8f84OP1W5SaWeeycnU6R97l6L5Z8r+eVvPlLlQ9e+9aMd5709FePPyT/Lqsub/hvPfK43vusZNzFY0+KgGrzAuvFwqSN9Pogq5VDndZ21yitI77sqOI+0XSOm99Y93PgYf9WAm10pYifMd+L31xCxbakfSXkozkC4fprMjuuYMDqBGKrs+4o4zaQ1JeTK38wvp6eOvi7QAz0DFwcdcpr8+97vg44eBQrsaWV3uVzOb01lOmi+Q8ntK8FFb1btWSpzvtGVJqZ1Ju45pSpcP09kJf801PoAamlneJH261PJzN69QnzT4cH0+9OKqRqpP/p5dt/76UOCh6nevwzlb+/0s9aVUSFdeeSWBRw2Fc9tL05N0Ps30OfBej3SbjtvpcmaWq3NHUt5UevwLIa8wGyrrcFoWF2q1xOXkzHK31Bf1dL7EkRU979M798HzqsNlznPc7OlvfMbSbTbFcS1YpfJllk4q4FQ5+FiYSv2K19fXov9FHU2opbgcj6Y0ph+ApN1CCdGNB3c+mqoo/TFPd8NV3uEqCGblzPeu1FoIQDB7CD6qJPhlEUxAGnVzrSTtSCU7WOWDWShFpGZbXNb505PmZ6s+9gJzH8EHUGNaeAbTdFX3K7/E2vzyJZhmWbp8m86OzuSMVNfs7EmlV2WlywPxqhx81MG31DwRl5Pk7vyQ9PWt5zfpvNfm3E9zrWnKnqRVz+BA0hV5tcutLFCsY6FwwYf/CzvTVJ9K7Vn97nU4Z2dvP6N7MXt7Mt8kFTTZ5naFW/F3Om0AEk3K/zkNutng33XR/+LNYCMLWvBEAbWzYJpd/F+paAJmU5oyvK7M+i9NXI7NuVwsyQuwgPnNBR/+5V5pwvwSd47jUlqEeWlMN3enp0pbiTulwYNISsr/mVLwKopLnuAGVIUbqUPTO4JoPvgKOVVa0ueB6pphzQcX6fxR7XMZ/bJL++WH2n39B9c6g63Encq0q6pgk7qZyq+aGRzXnBc87rg84HcQ9WPBNLuglvxiIpjiJE2f29Ic+XRUtwhNWpuZ7v0xpkLKXHDj3g7E5+Os7NwcEZc3cdOqfZUC02P/tss1H2l3owAAALXz8PeGqfkAAADZIvgAAACZIvgAAACZIvgAAACZIvgAAACZalhyjhsCAACoMY07qPkAAACZIvgAAACZIvgAAACZWpTL5aba28u/4fTNN9+U119/Xab0VcwL0KJFi+Scc86Rs846y00BAACVGh4eTh98vPrqq/LWt75VGhoWZmXJmTNn5Pnnn5fzzjvPTQEAAJXS4CN1JKE1Hgs18FB67Au11gcAgGpKXfNx+vRpWbp0qRtbmE6ePOmG5ie/aWliYsJNmd8W2vHWg4WY5zTZAmEVNbsQfHjBx5IlS9zY/KM1O6+88opceOGFbsr8ttCOtx4sxDz3j5kmW8BTUbML5j+9Q1tITUsL7XjrwULMc64zoBjBBwAAyBTBBwAAyBTBBwAAyFRDzdsic5uksXGT5NyomSCbQuMiJ/pXSeOqfjnhxvP0s4HpdrnGxvi0KbhGAABQjzTuqH3NR8dumRgS6WxcJf3F0YUJRBplxX3Xy9HDPbLMTS1p45B9TC+Yju5Y6WYCAIB6V7vg40S/rPJrJTr3mAlHZOsKHe+UPea/TjtPh3XWVllhx70AJV/DoZ/z50VqRnKbGmVVcTSDWTY+cLVc2POwGwMAoFiNaz42ylCkliI5DZmlPct6DnvThsyUlTvkqA6nrRmpCw9Lz4VXy8C4G/U93CMXXj0g0clJHu65cM4V5E3d98hdI9dNb7/HB+TqC+fOMev5ubroJHsBWNx0j14bPebfqHEZuDrmmvHptRP7uYRrzdJ1Xig2O23exn3ep+sxeW9S6exP2v+M2OMokU9lTDs4dtfmHLk0gbqXQYdTr2kl1D+jKMU1ySwc9gvRffEH03X3mpn3moI8Zp5Ns/pNWCiswukD8oUfmNmx+12i0NIv9w98QeSuu+RG89nkwnv2RIOKa265S+QLN1VYEF4jt9w1IteF8kKDBJNvbV+Q7iY3KeLhh+6VD951i/l02PjAXXLvjcmfi2UDmei5eUh+7+WX5WWT+qMbqSPjufvlB5Ueb0BTx3XywZTXVyi4bOqWe+76oNx7V/jmYS7eIAD1oHbBx7IeOTyxWzrsSKkaEL/Go0N2TxyWnrlTvVE1Td2P2C/9itOslxIflLt+GLNfsel+udF9qogWhjbw+KE80t0t/WbZti98oC4DkBBbIGn8Ubo2yxZQgYL+A150ZgIQf1pCwKaFmrvj1kD0ByZP/Hle3jwsX9IPFgV6KWoGPniX/DB0fvpDgU1SQHzhhdeZPQ/uezhV/Zy54/fXb/MuNrDVFDzuhODYXGea1cG8LKRwcNz0ax+UH9yfy59bW6snX5Av5Rcal7ERkRt/r46jNaBOZVDzofw+HnHJ9fsI0P4cdl6wz0fjJjno5ouckONPiFyxvI4ildCXpH5B/0C+8IHgF5tJXgkiH8hPCxcSyV/44VS3hfI0qqZtwXzdiA1iHsnfzl5jApAfynX3mwKigmaq2eAVSPdLrsROXtMfLOQrSPng8ka5PzD9fhfFPdxjrrMb7w9/plSQV4H4gPiHYm7+PUXBi5cK57Cawscfn+KOu4Lg+Id3maXDbC3JD4Lntkm6v3Cj3PuQu8DHc3L/Dz4ov1aLQwbmuQyCD63RiNZ0RGtCwjUeHbu96fYplvzTLbtljZuvwcexI26wXpi74EfyX2b6RRjzxaelRuhL+5Gi6uMPmrv/0GciyS94Zp8GCMH9N3ea5q6y7f6kantdPnB37ar+rzMFd1w+2C/6R16WH153vw3W6rdmW/czvP/jP9J767Bo7Uc+xQRXqfol3H+TXHevKZRT1H7de53Zjr3j1xoLE/COmYmhIDiYkpvGHu75gNx/3V3m2r5R7jLn5aZ6DYKt6PVZhv39Ddf+6LQv3PgDuT8YWV7Tnw8KbRPQB6+TjrTbAJBX2+DDvuPDr+HwU/Bpl3CKPr1yQiOMPZ3FT7XkHrS1JXs6519fkfjq4EKy/UDqQHFhqrU9rqALTY8kU9gO2NoOU35qJJVYhe4lrWb/4F33y6/dZcbrvBbE41XFtzUXl0hFgWUgkkwVcARdd49ZR6SwTHCjCQgL2zUFcrOZaILgu8zmQ/NscPxrJpwqpvungeIj9sMizd33yHUmAMom/khu5ikk7/rzpa1FjKZoraLXr+dLMQGZ1+R14xe6Y/MLQGm1r/nwn1bJp7iajwnRB1vCcvKgiTA2Dh2V6+9bYR+1FX0KZvcy6b9TZ+haPPbpmN1e75K5LG3fj9pUbVcm1JRgC9H4qnFvVqBp4JFu6bafNQWn3kUGlvVqjIrX80j3NbYWRD9b/1/04/KjqlfFhwvfQgAaeJplGpp/7YOFJgRj3ERNH7yuoyiPtSD/wP3XyQ9DtSxa4/MF+dEHpv/kSXqVN7sk/y55TUfhgKyQin63bO2Hyf9IJtuOviaAuyVN9AegSEZ9Pip3ov9O2WMCly0dy0zMYYKTK7bKzpxWpqyQrUdM8LL7k25JR2tZ5vJbTmOfQEhIddUG8bD0mNLwxvtj7sLHB+Suez8ody2kb+iHHzKFUnxVfFGtVupqrHDhW6gw0QDgfjGRSeGOfXxMRqRNghUvhdqoSIdK++THQ26a3smbVUV2XGu4PvCFNrk/NvC7Rvp/eJ3c/4F6bhbTjqczC5Cu6TeBzb3XFY7RXNc3UesBzMjsBh+BF5F17lkp169xHT/M9Bu3iuy4t/BuD+0H8skHveV2HPWfoik4oT1QZ1G4GSJth1OT/G+0olqAQPI7w/n9RVK082dGd98UhraACzWLmLvym75Q4rFI7649lD823+Kq2Es8ojubNGCMHvNd5hy3NccWSqWaXaZP+zZ4TwclBQD2Lj+mQ6WJPuS6D94rWvlR/Miud35sv5JSzTvaV8KseyQYAFVd5c0ueRqMxQSDcc2DyfuvQZYeowYxXt8mfTKrnn4NgbmmtsGHvlq91MvB7OO4ftNLodNpbqeNPEKdUPWtp517tLnGX65DPrnRf2tqo6zQj2yZvaaXmTzRkNgZ0U/u8cCiwKUe+kBcY76Y/WO/R+Sm/P59QL4gJlhK/Ib2OpSG8yO+2SVt34bM+LVU2m8lUCOgHTK/YIr4pPdITL/moxwNQOI6+moTkBsM0OYVL0Ay50Cf3jAFsa3dCKzAOxYNdvulKdR/ojhAvDrXIY+4AKg2tXKVN7v4bKdQNxwU1+xSsjnTBFn2seoPmOO/Ufu+lFgWQFmzUPOhT78U11wEaS3H4cgLP7y3noY/5z8VEw1eZp+7qw8FB+69AzFfzsmBi36hlnhcsN76QDQ1S5sbtEKPKc59+hSLDSDco8GFoChQS/DII7YmwJRSRQFIqZoP20ehWrfSfqdR2wRzo4RfQzEuuft/UHg3RdOvFdeIGPaadNdXuP9EcYDoFcReAFRXtXKueUSD9hk9meMeIbcVHvffZYPLudH5GahfddvnY27ymxI+ID/6gvkiDgYH401yi/ly/uGv3eXdMc6nLy/35ax3xSOhAtZWhZjpWXRKrDHbf8W/Yw48wmlrQfTtpNqp1gUjrilCA5DqVAQkdTgtFrzT9x4FjTy98vCXbI2GdsOxNW4f+JF8Qc+V7TpSy6aTmZhOs0uheUQDJlsrU+nvnF/DZdajj5Db836Ne6T+Cz9ytZDz4NoGZgHBR5V4TSc3idyjX1IxVeBNWslduIv03l8R98XlBzDuC7Vu3yPganI02cP2jjtcHe03rehTEcFOkeG3VhZScZV+MNWkRj8tDShC59WdJ2160WOPnnBd/v7AC6kC8o+Bmiii8HRJIT/18eLwWzPDNQ2hriKRjsq2vL3HC3q1pibaKfKhh+410zokpzU19h0rLmCyfY5q2XQyE5U3u/gvYAvWyni/c97bZBMfCTfHnm8Gfej38usv+n3O99HyA2zvswDSWfStb31r6sorr3SjyU6fPi1Lly51YwvTyZMnZcmSJW5sfnrppZfm/TEGLbTjrQcLMc/1mM8//3w3Bixsjz/+ODUfAAAgWwQfAAAgUwQfAAAgUwQfAAAgU3Q4rYB2OAUAAGF+J/LJyUn7sxTtcErwAQAApi34JGja4INmFwAAkCmCDwAAkCmCDwAAkCmCDwAAkCmCDwAAkCmCDwAAkCmCDwAAkCmCDwAAkCmCDwAAkCmCDwAAkCmCDwAAkCmCDwAAkCmCDwAAkCmCDwAAkCmCDwAAkKmGM2fOuEEAAIDa0riDmg8AAJApgg8AAJApgg8AAJApgg8AAJApgg8AAJApgg8AAJApgg8AAJApgg8AAJApgg8AAJApgg8AAJCpRQcOHJj68Ic/7EaTnT59WpYuXerGqm/q5RH785wTvbLo9KhMLVokU1NmwiIzb8r84w3aaWdMWmTmn1l8ocil19h58v7bzYcv9oYBAEAmTp48KUuWLLHDk5OT9mcpjz32WP3UfJxzrMsmee3JQuChXOChpkz4cebMIvOvRiRmwusvy6J/+4ZN8k+fMeMveAsCAIC6RbMLAADIVN00u5z92HvtT6/GY5Gt2NB/vAoQr/Zj6owZ0nBpapFMnpmyTS95ZtqZd90gDcv+0E1ALb355pvyy1/+0pwv7wwBAOrfG2+8IY2NjXL++ee7KTM3nWaXugk+znrUCz400NC/8u/FFdr8ooWbCz7y5VwwOCnMs8FI03+VRe/eYKehdvR6uOCCC+Sss85yUwAA9U6/u1955RW55JJL3JSZm9PBR8Ph93kDNtbw+nxoarDDOlG5wKShMD9I+4M02Hk60+uYqrwaEv3slA1WvMBGFQIduy7tX+Lm2ek6yfxr5529RM5Z1m3nnf2+/2J/LmQvv/yyvXhDtU8AgLqmNdbPP/+8XHrppW7KzM3pDqcAAGBhqJuaj0WH3m9/ao2DrYQw/+jPRfrTv7vWYTfdo7US/p23mXrOJXLe+6+TxRe81y3oR2C6UjNsx3W6GVd2XIcD8201hwouP2n+/6W89txP7Zyz/sPX7M+FjJoPAJh7qPmIeH1yyqaXJ6bk+Vem5NQrIqdeEnnuZZNemsqnU2b8eZP05ykz/uJrjTZNXXKVnL+8Sxa/5TKRN54zK/yF+XnSJTP+xvMib77gfr7opUmzgTc1mY1pmnzVxCEuTb5mfk649LotZN9y8TtsAgAA01c3NR8T//hZ+/P8935KGs461wxpjYSrvfBrI2yNhdZS6E9/+ps6xwYIMmkCCA0W8rUbwc/pNB3Xz7vpdr4/rvN1OU3KHw/Mc597/f077M+FjJoPAJh7qPkA5o0T8qUPL5JFn/uWGxf51ufM+Ie/ZOagvhSfKwDZq5vg4y3/brVNDWdOiUw8ZcIzP/3cjD/tkg776V9FXjdp4hkvadOK1nrYGoq4pNGY1paYYVu74ab586a0BkV/BlJ+GT+ZZexyQCkn5Lj31wIAADHqJvg466xFNskZLeADgYEfMASHbVCgKTAvP+5SMHAoWoc/3S1jf8Y1s/ifCyxvE2rvW/K5RYuktjeotdrGMrnlsSmZeuwWMwQAiKLZBQAAZKp+gg/tMKrJ1jK42o98jYWreSia5sZDNRvupz/fTtPajMi00DL+OjS5phU7HJweSEh24kvy4UX6IrdCCtcseLUNH/5SuDdEsI/EiS992HxujXzFDH9ljbcOf/n8ctHthDYys22U9a3PFbZrt33AzSiI9vnwx79ltxueV5p3LPltRT9XNr/dts1E75jdcqF88D/7ObO1gnR5XebYop+N7n/k+OKulfh5Rtl1GynOFYDsNdTN3+bIF+wuMAgGA/kAI5Bs84cOB5YPLuPPz09zy9l5gel22J/uL+PG8z/dcvlhxNIv+ubPS9vBKdHryqaxL8qIKdxTF+zGslseM589KPr802fduh67JdCA8f3PS/MNIl8NbONDX1lTVCiWUnYbSfQY13wl/xlNB+Xz8vnvu/mlmP1eM3q797k0TTK24FwjI18cy29r6qsiB/zDrCS/Tf7cIF/NL/MhzUNTGDf7+2Pz4iuyJpqHafM67tjs/n1dPj3mPjs1Jl80edWcDxI0uAgf37XH08wzyq7bmMm5AlBT9VPzESr0NfnjgZQPTPSnWyYfSJjhM/60wPx80uWC4yblx/15fn8TnaefDyY3zSYUM4WF+aL/kCks/vwTbpJadot89YsfMmXTDrNEtXxWDgYLb7cN+coDVdxGnPhj/MSfm4LPbL48s9+hzCnlhHzpjq9oZBQOisyx3mJXUWF+f+iL8lV/PWaZ2+2T7cH9+YRcq9NGjhcKbyttXkePzdv/zx58TAq7v0xu+aoGPl+XA7qRE8dF++W2LS8c3yducdsqNS/Numd8rgDUEn0+UB0xhYVv2fI28++IHA+XatP3oVZpdoO+qm8jToljTCVmvxOdOCBfN3fon702WKAHVJrfbcsLAYQvsj/NrTGlctq8ji7n9t9v0sqn5s/L981/o2NmmWVr5dMax+gy0SaTUvPSrHum5wpATdVR8OFqFWJrJHS6n6LTI8vmayz8+S75y/vL+Mv5P/1ak1CfD/czv06XAKQSbPIIJq82wj0VFGgGKgQapeZ5Sq8bQD2rv2YXW9AHftphl+Km5wMCNy003Z/mlskP+9NNskGHSX6AoT/z++CWt8v4AYnOR5Fly8XeD8dUPZywL71oE+8mtFn0Bvv79vZ0mr4/KtFPf+uBr5i770/L2mptI07iMY7JaLX7EZTITyt1fs9Q2bxOUG7/g5bdIo9p4HDws7bvyI5ge07cvDTrzvJcAahYHQUfrmC3hX7wpxu2yY3np+uwLhecH/jpBxL+fH+9+i4R+z4RHXfT7Lr8cU2BWo/Q+nUcxT4hW21fg+bwUwnf+pw0f/775i71z80SapnYWvtgnwGzzBp97CRGfAET6RjpPv/Z2/0+AdXYRhyvX8T3P3+DBPtzfutz3lMz1ZWcn9542vyeqXJ5nSRh//QJFX+CGf5cUUfkD0mrtt+Umpdm3WaZ7M4VgErR5wNVY58gMXeoobb4NSPyxbFwVbjX6c8Uav4yD1wremMb9gn5czNRCxhdJvT0xoe+KAdb7whsw3uioarbSPCJP58y6/m+fL7ZrdekB66tTSfG2Pw0x+EfZ9r8npEUeZ1E92/MZExo//TJmcIByLWjXt5769Z9d51IS82zs8us28jyXAGozKKHHnpo6qqrrnKjyWr9h+XO+bcveQO2hiLwtlH/pxUcd8N23LB/ez84PzAv+DldxtaW6Kj+dMvp30ezNRvBef56wut7veX/sT8Xstn6w3L6Tok1I1+UMd4eWnPkNTD/8IflovwmDS3gbdNG5Kc/zx/P99Xwp2l6M7C8Py04rj+DzS2BZJtiAuOh9fhNMGbYJgAAMF00uwAAgEzVX81HvoOn/9OvbXDTbNJx9zM/TZM2q5ifoWVd8juTBjuV5qe59fnb89frr8f/6XdUxTylb9UM9CEIpui7JmYsy20BQH2pnz4fP///uKFoPwv9qUkFpvv9OOy4Cs5zwzZw8Om0wDzLTbPTdVrwM25d+W3oMppEXm/9pv25kM1Wnw8AwPTR56OIK9y18M8HCf64nyLj9jP6083L12q45fLr9PtsBOb5KbQOrdXwPxOZb8d1uo4DAIDpos8HAADIjL6JuA77fLhah+DTLH6NQ3Q8+HRK8IkU+zMwz04L1H7kazo0udoOf9loyu9HYBoAAJi2+gs+8gW8CQiCgUSw8M8vEzfsgoyi5NYVerNpYLqmYBBi16f74MaDCQAATFt99vmwPzVICEzzp9vxwDQ77FJcoOAnf15wGTtsthOqQYlJupwuoz9tAgAA00WfDwAAkKk6anYJ1mhoLYY/rDUNgXH7ng03zc7XGhLXlGJrMHS6G89/zo3b5H/OH9Zl/HF/3W7c/2lrPcxy+tMOAwCA6aqb4GNq8pc2mSGvwM8HCcFgQQt+f9gPMILJLVsUmASnBwMRf76bl/+cpsCydptvyhkT+GgCAADTR7MLAADI1OL/9J/+0x+95z3vcaPJ3njjDTnvvPPcWPW9/s/3ypuvvSRnnXOuLGpY5NU82JoI99N/o2n+LaTBYX+eS/nl3E87zf+p0yLz/WmhecH1TtkajxdeOEd++cvFcs77/4uZtrDp9fBv//ZvcvHFF7spAIB699RTT0ljY6O85S1vcVNm7tVXX7XrVPoOj3J+9rOf1c/r1d/4yV/Yn7/80X8XefMVLfaNRfZAFtm/d29DARMEeGNnzEjDIjPfztED1n+95c7oTP2Ue/W3nxdnNL4wP/VzSod1mi6X/4ydY+i0SbNtDYR09KwL5IIVn7XDFyz/jP25kGnwsXfvXnnxxRfdFABAvbvoootkw4YNcvbZZ7spM1fp69UfffTR+gk+AADA3DOd4IM+HwAAIDOvmETwAQAAMnOBSQQfAAAgUwQfAAAgUwQfAAAgUwQfAAAgUwQfAAAgUwQfAAAgUwQfAAAgUwQfAAAgUwQfAAAgUwQfAAAgUwQfAAAgUwQfAAAgUw1TU1NuEAAAoPao+QAAAJlatH///qlVq1a50WSnT5+WpUuXurHq+drXvuaGAABArdxwww3y+uuvu7HqOXnypCxZssQOT05O2p+lPProo7MffJxzzjluCAAA1BLBBwAAmPOmE3zQ5wMAAGSK4AMAAGSK4AMAAGSK4AMAAGSK4AMAAGSK4AMAAGSK4AMAAGSK4AMAAGSK4AMAAGRG/6AtwQcAAMgUwQcAAMhUw1duv90NAgAA1F7DdXfc4QYBAABqr+FSNwAAAJAF+nwAAIBMEXwAAIBMEXwAAIBMEXwAAIBMNdzOo7YAACAjr5jUcAeP2gIAgIxcYBLNLgAAIFMN+gdeZt8J6V/VKJtyblTlNknjqn4zJ+BEv6wKLySbGhulMSnpssH1xK0TVZfr1vzvNmcnHV1+9a5xNxaQ65bG1bskZk6CnHQ3rpa4VQEA6kNd/WG55VeslD2dLmCIcaJ/lTSu2CpXtCwLBA8dsntiQo7uWCmycUgmzPDExJBsNP8N6fDuDrccstQxMCFDXYPSmSpwyMn+wXZZv6bJjo3vWl1hwAEAmGvqJPhYJh27D8vE0R2ycs+DxXfMJ/rlxq0iO45OyO6eZWZpzL5x2bU6UMsUSZ2DZpHhXmmNmRcKLnL7ZbB9vbjYQ8aODUvXts3iRhNoDUfMehs7ZVCGpbc1bl76mhgAQG0tevDBB6c+8pGPuNFkp0+flqVLl7qx6tEajRVbj7ix9DYOTcgnHzSF3B43IdZK2bHjCtl6X4scPdwjy7TZ5U437JZANWggskFk7yHZHBc1aPNJp8jQxICE66L0c62yb/2oHLIf1KBCA4hkXea8DyRVaI3vktWt+2T9aMJ+AACq7uTJk7JkyRI7PDk5aX+W8r3vfW/2az6W9Rx2zSV+0mYTDRo2mthho2xcqUu5ZpRA0haVjt3e8JAuuuOomxdodpk4LD3L7WZieP1M6ANSDU3S3DYs+w7GN5bk9ptwomtdJPAwcjuld9gNG+O7tstgl998ZtJQl0h7n4z64yYVAg+v5iW2r0hAYn8SAMCsqZNmFxcI2OrxB+WTftBw5AlpuW2HCUX2SGe++nyV9IeihZw8uEfkiuUJdRkdu2WCmo6a69jSJ9K7M6Zpw+vT0bclGnqY4GF7sI4jJzt7JWa5JE2y+dCE7JUN8U0qWttirpdOGZK9zWOFZh4AwKyb9eAjt0kDihVy7Db/7na3d4esQYMGIR09cjhw53t0h8jWFY2yykUguU2dsmflDkldZuUtk57DZp0EJtXRtFm2dQ3K9kgtg1ebsa2oGWR81wbplT7p6/InjMlIoO9HWk2bD5nrItqcY3QMeNfMQIc0dZjkJgMAZt+sBx9+00nRgyn6WG1Mk4jfTHO4x4QMZpk792yUoZIBRKBWpXOPrLx+DcFGjXi1HxsKj7rmuqW1t02GYjppjB0T6du7WZrduAYvhw6V62jq8R7ljUmtvTKc2OHUpG66nAJAPZjTHU4Tn6TVwGXFMbnNr0VBdmzn0hHpG1ov+zrLd/7UQGJ7y6gcat5pPleqq6mjfUASghS7rpF2adt2KLlTKgCgquZJh1NN2mlUZOXKlYGOpOGUDzz0CZboHe6KrXIk1E+kkPzmGtRIx4CMagVIp3bg2Jv+qRO/mSSYYjqcTiQEHvp+kM6RPtl7aK+0bOdFYwBQz+qkw2mQvrW0U/ZsHJLDhw/LbcdWlH4ixfYNCRROmvR9ITFPyGiyzTUWT7tUnT7qagK81n3rTcAwJG29rSbgq30goDUedps2MNGOqNvkWGuj0MoCAPWpfoKPfA2GfSFE/u2ktk/IbcdkhZ0XfdIF9cC+lVTPT+sx2aZBng0COmRAh0fXyz7XB6Paj7z6fT/2r/O36fO2vW6/zqcWBADqzawHH4XOoBpzmELEpKK+HPnajdvk2Aq3/Kace1ImJpVodrHJ1nbwtMtM+YX/Btnrzk/MUyfakdSd123HtCbEfGaGVRKhoMOsN6l/h77mfWJir8gGd96pCgGAujDrHU4BAMDcNSc7nAIAgIWF4AMAAGSK4AMAAGSK4AMAAGSK4AMAAGSK4AMAAGSK4AMAAGSK4AMAAGSK4AMAAGSK4AMAAGSK4AMAAGSqYWpqyg0CAADUlsYd1HwAAIBMNfzhg2NuEAAAoPao+QAAAJki+AAAAJki+AAAAJki+AAAAJki+AAAAJki+AAAAJki+AAAAJl5xSSCDwAAkJkLTGr4zcubvTEAAIAMNFxF7AEAADLUcIkbAAAAyAJ9PgAAQKbqKvjIbWqUVf0n3JjnRP8qaVzVL+GpBXZ+Y2P6tCnnPomFa1x2rTbXwupdZmh+ynWb4+uew9f6+C5Z7X5nV++ae2fJ5v88vL5m47jma14udHUUfOTkwT0r5fo1y9y4s+ZeGbpiq6xo3GSWSLBxSCYmJkw6KjtW6qgOm3R0h6yUjTJk503IUZ2Jqhrftbo4wGtcLaXLi5x0m+WSysbYdc7JL5+FcJylj3F6BYdZZ2uvSN+o/b09tLnJTZ8rxmVsxA3WwPR+56qhtseFhaV+go/cg7Jn422y5mC4JmPFihXSuUcX2COdgemhGpI9nW76Ctl6REfdciu2ypHA51boTFRfe5+MugDPptH1sq/V5HninXeHrOsSGdxeolAKrXNU+qRXWqtWMDfJ5kNmvYc2m6FqihbEWRxn6cK/9lIcY6XGx2RE2mX9mrkQdMTlf62ur6Cu/E2VptE+kd7W6QQglVw/WRwXFoo6CT5OSP+de2TjJztkWc/h/C9UqXS4x6shiV0+UuMRSrs77OdQQ02b5dDEkHQNdiZWmXds6ZP24X1yMNWXpfnS26vL98rOWStkp2chHGdlx5jC2DEZdoNIp2nzNhOODMu+qp0EoLbqI/jI7bQ1Fj7bjyO2b4YJUlaZO2p/Xm6Tq/GIpEiNRzR5tSZuXSX6k2AmOmRLX7sM9+4091Yq0s+iaY2sb6/gy7KpWdrcoPKr83N+FXSwtiDQX8BP0Tu72OaA6OdiayC8O8XoMl5VeKcMmuFBV/NmA68ZHGdSk0X42GO2GRCuou925yKgbF6582YmJq4r9TGWX5c9tk49omFzJ6/zAnfzFZzX6HVhp0e3Gzp3blpRHrl9jpnvfS4+/2PPXTXyulIlruk0+x+bj+WOKzA/dnkjPD05jzF/1UHw4dV6BC1bc72s3PNgzAV4Qo6ZIEVrSKyO3cU1G5pK1XyY5NeaoLaa1qyXdhmRseg3j2Xu8reZe7V8cFKGq4pvCb6XZrhXOo9t886rXxWc65bG1l5p8/v9aBrtkxHz5ZpUC2PZz+2T9aP+52KaQHQZ82U94voi2LRX5KA5gKbNh8z4kLn7FOly2/b6Kkz/ODu0PaOoRiEn+01p0bVts3QkbtMZ7JQNstfbT7vcoHRGjydtXsWtK19yVniMJdbVMWCmDekRtUufPReHxB5SJfsad12o4HbNZ7WGqdUUdq3+skXHpeXqTpG9bnt6TbQX8jD5nMeoWl7Hy3VrENEl24LbL3NNl93/pHwMKrON2GvYBCvb3TWs6yyVx5i/Zj34ONF/o2w1gcLGYF/QZWvk+pV75MHo75v2C1m5Q7ZEWk6KnnhJqvkI1XIsk57D5mI/3GOGUDvDcmxMf5oCKtpe3LHOfrHuL1ti5WwHxOGubV5BlNclQwPBi8EsZ+6a201wEJrctFn2hmphosydl/k27BpyBZ3lN4H4X5zeMmah8Be0Wffmci150z3Oji3mizhSo5DbbwuZdeW2qdr7ZG9+X72aKBk+JvZ0VJpXcesa3F9YJvUxGuXWVaTS8xq9Lpzgds1nTbxkBJf1+q/IyFi+4GvaPBC+JvRD+TxMq8p5bZkCOvDdtn+dFtwDZmlfmmu6nIR8zEuxjZhrePzgPvOtULiGq5PHmGtmP/g4JrLj3i3S4sY9y2TN9StlTyT6yD24R1ZevyY2WFi546iLnBPS0Ea3JLIVqa0IcZ0V40osd1fqfbm62oboF2F7i4RWbWsNRNqa899keU3N2piRUAszflD2DZv9cFXP+aSBgB88uWW6UpX6UdM9ziZZs94UTvsOusLQ+7Jv79sSKGRKaGs2a0hQaV6VWpdV4hijyq4rotJ9jV4XvrjtRpZtbjEFfYRtIvDPkW0SqlDV81oVOpxqRdFgZ6SpIs01XU5SPvpSbaP4Gj5oPhS9hmecx5hzZj346Nh9WOJaQYqbXhIexXWObF0R/gWIJu+RGWTIu8Npk5jv3DzbWXFwe3EvfXP3F3yCJrE6u4r8qudoKnnzl9J0j9M2Xfl3kfbLvn6fAkk8xjkrZ/v3dA4WCnqvSai+dAwkN83U8pr2lduGdw27TtRF1/DcyGNUX310OI2zbLlcIYGmF9vkcr0kxB7UfNSdnOzsLb7DKVJph8xSXGfNkZjqjXH7goKEQKjE5/LSLFPKdI8z8DkbzLWvl6rEHtPNq1KqeS6DarGvadgmLu17UmjO8LZXoZrvf4cMeNUfhQ6sM71e00i7DdfEpbVi9hoONp9WK48x59Rv8GEuxU+aeOGJ414vDW1y2Xhbcv+Myms+eNqlZrQTmvaiD/WPGPd6tBd1JItWy86E/4RNa/gpArM/rSYQ6hoKtokHJXxOe/HnJySvOzRuxH8ZT/c4vTbw4X07Zec+cwyuk15U5YXMdPOqlGqey6Ba7GtagSYKcz1sMNuLUzr/M9h/27fCFPD5962kuaYLphekpN+G7Xg6uF026DVc1HSZLo8xv9Rx8GEu2N3uyZQT/XLnno3iP+QSh5qPWRTqt6CBnnhVqCnrdu07Cvxq2RmyPfjNXWCoHbpzxD45UWp39HOj5os09LkNInsDH4pd9/51gfV6d6D6Zazzok8xTPs4tTPn8KAMDsd1NC29zVKmm1elVPNcBtViX8vqGAhfE3o9mH0IS5f/td9/v6On+V10BX+aa3om149Ktw3DdkjWniB94QcGUuUx5qNFQ0NDU6tXr3ajyU6fPi1Lly51Y9WmtRAr5NhtR6XlTu8tpWWt3CgbZY/smc5LS1fukKM85VJXtMNZpwylDlhmKuvt+aa3Xa01apXetuz3dzpmK28BzI6TJ0/KkiVL7PDk5KT9WcqhQ4fqJfjAgqdVtfZ9AcHH9mrFK8z3rR/NpCNryHSOM9O8qYK5tr8AZoTgA0gj1+2qvOdG4UhNAoB6Np3go677fADVlH9ldWf0xUj1yd/fzpE+GSXwADCPUPMBAACmjZoPAABQ9wg+AABApgg+AABApgg+AABApgg+AABApgg+AABApgg+AABApgg+AABApgg+AABApgg+AABApgg+AABApgg+AABApgg+AABApgg+AABApgg+AABAZl4xieADAABk5gKTCD4AAECmCD4AAECmCD4AAECmCD4AAECmGqamptwgAABAbWncQc0HAADIFMEHAADIVP0GHyf6ZVXjKuk/4cYrkpNNjY2yKedGAcwb47tWS2N3Zb/cue5GWb1r3I15prMeANVBzQeqI9ctjSbgy6eEL/XUX/jju2R1cH0ulfqoXbcut3qXhIuZMC2IouvypwVTtLCKNy67VpvlozuWMj/yn2/sNiFzCanyIyfdkfnFx5BmmWTJ5y/leiP5Usm2fU2b90rfSGe662ga7LVQ5hoCMDMEH5gx+2XdKTI0MSETfhrocHMdV3i29g67CWm0S99oYJ0mRVdbpL1d2of3ycGkksPsx/ZBs0y7Gw9q75NRf1ujfSK9rWULx/FdG6RXzOcCO5YqPxz7+dRZUjo/ct2dMtI3Wpg/1CXDkWNIs0ysMucv1Xo18OgcKRxDuTxOCLgaG1u9PBs0AUjRvNWiq4sGk52DYvcnOM0eS3QdJqDpGBg1Z7RXNpTLEwDTVufBxxWyfJkbLOmE9K9qlFWxbTSl5mHGTIHSOdhlCtoBSYoL7N3yBpG9psAxZVI6Y8dkWNqkucmNpzXcJm1dw9K7M/6uePzgPhnuMsuUK/CbNss2s6/Dx8bchDg52WkKsK5tmyW/mynyI88Urht6Rbq64iKhiBT50TEwIYc2BxboGLD5PbzvYP4uPs0yUWnOX/n1jsuu7SYC6Nom+cVMHu/tay+5bfOBcBBXMg2ZpT26P8F5ui/tweDIpFGzbekaCk3zgsQm2WxO/nDvztK1UQCmbdaDjxP9q8J3Hn5asVWOyB7pjJtnUiiYOHFQ7juyUW7riYtUlknPbRvlyNYbI/1HvKCkcVW/GcJ05fYPmi/1LSUL2qbNh2TiUKCArrF1W/qkfXC7vQMO02BBpG/LOjdeyriMjbjBJLn9MtjeJ1uCtQ8p8sNjCmONPPr2ypYWN6lOVeX8jR+UfSbg61oXzpmm5jaNUOJrqkxwcsgGccVNOkXJNpN0yMDEoUJwE1AUHBn2uJKq0jq2SF/7oOwn+gBqYtaDj2U9h8N3Hn4a2mjmrpQdR2PmmXQ4EGjkdm4V2VHiC998kexYeUS2JtwNY7pyYspaaWsW128hWBDMzLgt+QdDwWfqJn5bazEs+yIl2viu7TIYvPMuJbdTeofNXXdS4WRooKEHX1hd+vzIdbfa5pq9qXZmmvlhm5jMHf/6NcmBQ5plpiN2ve3SYvImpLnFTC1Hg4r47wGvJsacp6LgKEXAEkrRPjdNonHRINEHUBN12+xy4vgT5t8jct/BMvUSJ/rlzj0r5fo1pdpnlknPvTtk5Z7OwBMwZtph8wV2uMcMYSYGO22dvCsQvPby1hkGIPauNFDIaBX5YGf6AKRjXbTa3DWRRO68Q4bNfvuFUWe5GgyvZqS9qDQtnx/ajGGbZiqoTag4P7S/RGuvDLeXCHDSLDMdceu1zUZJhqVk61Yc3YY5T/vXaX7ENXFFApbRPhPkJDXhFJprgvQakpGxGQfSAIrVafBhCoqtR2Tjjh1ioo+SzSJerce9EtviErSsR27bKLLnTppZqmZ8TPR+vL1vb6A2oUk27zVf9KYgr2ZFkxa+epc7uD1lUOOqzbf7bS8xTSRFzPx8h1MTNKzf11q2Fqct2AkjTX7kusWUy9I3mqJPSAml8sP20XCF/2hCgJNmmemY3npjakRK8pqs2oZSdEBOw523WMPHpNK4CEB5dRl8nOi/U/as3CFbekzAcMVWuTGps6it9Ujq61GsY8sOWXlka1ULxQWtqVnazI9QAVxDzS0pOmbmNcma9X5nRq+zY2VNC16nw8T+CHHK5ofrdGnu9HtbC1X+3hMkrkklddtSXH6Y9a/21tdlCub4fhpplpmOMuu1zSsxNRwlakTiHn/2kve0i9b8xM6vIA8BzI76Cz5ym2TF1itkyDWHaMAgRZ1FPWX7ekT5tR8P8uVUHc2i5d/IWFzpXOndbHljx0yJE+pjUVrT5m3SpTUO3V7/jW3VbFpwwsdeLj9MQHPIr1kpJPvUhd8kUMGtfDQ/bD8S7adi1pO0mjTLTEfZ9TatERMLFuWN7cvSvl7WxJya6BMrhTQq3oMqcfNMms6BtbeYsxcjaTqAGamr4MM++dL5hOw4ursQUJiA4fDR6+W+FcVvLO3YHe54moZ+ZmK3rp2nXWbOfySxNdD3ICfdWu2etmOn5ToHBu5Yc93e+xp8Xj+Jdukr2W4S1SFbtG/EYNonUIJcLUVCwajHbh/UCN3KVys/9PgrzQ+vs2vXUKnmnDTLFG+7vDTr9fNmQ+E4xvVR48ijyrPAPn7thoNsYFRBsAsgvfoIPuyr1BtlxX3Xy9GJw8X9N2wAskOesNWsm8xXHepGx4DtzDeSrwLvlEF9d0JFd59ejUFQx8BekQ3+OrU6v83cVcc/RllK05r10m7+Wx8fQYQFO5xq1X6bOY4SzRKxHRKrkh/FnVnL5ofrtxDfFOEClzTLxGy7rFTrNUzeeO8Vc/NMUFa1fhuVcJ1V/X00uyF9e6PneVwO7huuLB8ApLbogQcemPrt3/5tN5rs9OnTsnTpUjdWPblNjdK5Rx+pjQk6YmjtyIqtR0Q2mi90W4PhaABj3w3irNwhR3mSBTWlNTb2VaZVLkB1vdulZbTyYGvmZnPbpWmNjL6p1KNNPBV02rVP4ByTbWk/U+nywAJ28uRJWbJkiR2enJy0P0v527/929kPPoC5TJs/Wvetr+oTI6aUlcbtLdVdZ1qzue06ooHO9pbRoheTASg2neCjTh+1BeYG+0fO9D0eFfWRKEObbmar8J/NbdcJW8MyUuV3nwAIIfgAZsQ9wZJ5xwXUin3KZoEHYECtEXwAAIBMEXwAAIBMEXwAAIBMEXwAAIBMEXwAAIBMEXwAAIBMNUxNTblBAACA2tK4g5oPAACQKYIPAACQKYIPAACQKYIPAACQKYIPAACQKYIPAACQmVdMIvgAAACZucAkgg8AAJApgg8AAJApgg8AAJApgg8AAJApgg8AAJApgg8AAJApgg8AAJApgg8AAJApgg8AAJApgg8AAJCpug0+TvSvksZNOTdWSk42NTZKY9q0ql9OuE/Gsdsts4zH225+F3Ob4reXT5vMJwDM1Piu1dLYXdlvU667UVbvGndjnumsB0B1zJOaj40yNDEhE/l0VHasNFOHgtNMGtrolk+2rOc22Xhkq+ws9510YplsmRgS6WyUVf0mVOnYHd5WKA2ZPZznct3hYCvhSz31F/74LlkdXJ9LpT5q163Lrd4l4WImTAui6Lr8acEULazijcuu1Wb56I6lzI/85xu7SwenZfIjf+wJSZdLs0yslOcinIerJTH7UudNvKbNe6VvpLPiz6Vlj6PMNQRgZhZus8uJflkV/ALMp07ZY2bvMUFF8Ty/9iInm1bcKAdPdMhuE1wc7llmpy5U9su6U8IB4ECHm+u4Aqy1d9hNSKNd+kYD6zQputoi7e3SPrxPDiaVHGY/tg+aZdrdeFB7n4z62xrtE+ltLRuAjO/aIL1iPhfYsVT54djPp86S5Pxo2nwoNN1PQ11mZteQXS7NMslKnwsNbPavK8zzsq84AKkkb/xrpvj3sNXLs0ETgBTN87YZDoQapXNQZNicz+A0ey1G12ECmo6BUXNGe2VDquATwHTUd/CxJ+7LxUupWmTKitaYlErJtRe5TfH7mK7ZaI4zd7Gdg10mHwckqeyyd9wbRPaafLQFXRpjx2RY2qS5yY2nNdwmbV3D0ptQdTV+cJ8Md5llyhX4TZtlm9nX4WNjbkKcnOw0BVjXts2S380U+ZFnCtcNvabc74qLhCKmkx8u0OrbUmJP0iyTYtsa2ARjiKY16024Miyh7Kskb/J0+bjfx7g0ZJb2dAyE5+l11943Gpo22mfy3QRdwWleINQkm83JH+7dSVMpUCP1HXxsjHwxBNLu0LfXHukMFfwrZOuRmNqLTq3TSKJ9OFaJtqBYtmYkMF7Gyh1HQ/t3VNt9Yp2Q/lVmX1L1K6l/uf2D5kt9S8nCxN5xHwoU0DW2bkuftA9uj6n212BBTEG7zo2XMi5jI24wSW6/DLb3SbDcTpMfnnHZpZFH317Z0uImVVVh/ZsTMz7NMtWTPm8cEwAesoFKTrqDv8dxyTaTdMjAxKHYY9Fg5FBkhr0uk2pdOrZIX/ug7Cf6AGpi4fb5WNYjhyd22y9C28nU1gUflnwLis4/er3ct0K/3LS5RZtYvOXhy4kpT6StWVy/hWBBMDPjtuQfDAWVqZv4ba3FsOyLtL2M79oug13b0hW0uZ3SO2zuupMKJ0MLUz34wurS50euu9U21+xNWepXnB9u/7eVWn+aZYzKz4UX1AyHmnJmcq1oUBH5XXbJq0kz56kouE0RsIRStM9NkzS3maMm+gBqok6Cj+InVlZ4VRehaTZFawxOHJcn3GDF3BMqK+67Xo6aL7JwbYphAxStxXjC++It0YxyZOuK0H7a/Y+1THoOmy/Owz1maH4Y7LRtKq5A8NrLW2cYgET7J2gV+WBn+gCkY1202tw1kawrET4Om/32z2Fnubt0r2akvcWUphHl8kOboWzzQwW1QZXlhyn8t5ff//LLeNJt26wvH1S0yr71o7G1ClW7Vlx/EK+fSVwzTiRgGe2T9sQmnEJzTZBeQzIyVvm+ASirjmo+VsqOo3FfDIGU4mmVtGw/Db/jW5lAYFnPYbP9IdlogiH7ZEuM9M0u88j4mOg9cXuo2r5JNu81X/SmIC/7xFAFtADUu9zB7SkLKldtvt1ve4lpIikS7HBqCsb1+1rL3pm3BTtCpMmPXLe0akvHaCX9HoqVzI8q1nrEid+2Oc5Dhet/r2ywgUg+QKnqteLVrLQNpeiAnIbbt1jDx6RUrx8A0zNPml0q7/PRsVu/JHeLJHUWjaZNwpMtUU3N0mZ+hArgGmpuSdExM69J1qxvl+F9B01R5e7y168xU9PyOh2aFSQ/ORNVNj+8/TArld7WwrXlPQHkmjXSVu0Y8fnhttG1rmytR+llSit3LvIBit9sMY1rJfrESiF5T7to7Uvs/AryEMDsmPPBx4mD98mRlTtss4l/11XJez68ICSQju6QlXFPwRS1yYSlb3aZT5pFy6CRsbjSuV1iWiRmZOyYKXFCfSxKa9q8Tbr0rrp7+nf55YSPvVx+hGsH/GSfuvCbBCq4lY/Nj/GDss9MLtm8lGaZMio9F9O5VqJPrBTSqHgPqsTNM2k61SHtLWYPYyRNBzAjcz/4OGYK+SuWz3r/iWizi02xAct8etrFqx3Q9ycUbjZz0t2qnQ1Tduy0XOfAwB1rrjv8jgivn0SZR0KLdMgW7Z8wWOFTFparHWhfL2tij8PrkBh+FLda+eHu+qeRH/ZRYhPIlI49Si9T+bb1/IU7bHrLBAOc6uVNtXn5Ucx2tK0owAKQVh0FH0dkq32ypESKPip7ol/u3LNSdlRUIFWf1p6UbI6ZSafYetcxYDvzjeSrwDtlUN+dUNHdp3dXHNQxsFdkQ+Hct/a2yVDCY5SleO+baJf18RFEWLDDqVbtt5njKNEpNLZDYlXyo7gza9r8sDUSZe7WSy8znW13yMBoi2x38wvLRPpkVCVvqiDy8jLbB2dv9DyPy8F9w6F8AFA9i775zW9OffSjH3WjyU6fPi1Lly51Y9WmT7vcKS1HA4+6xtGnU+5skaOug6g+Irvi2G0xNQxau7BCjt02IbuX9cuqFVtNaOPRGgobKOh7PALT09FOsbqPKfZX9zUYLOk7S8o03WCu0Tt+22u5Oh0f83S926VltPJga+Zmc9ulaY2M1qZ4tJmqgk67GnC0HpNtaT9T6fLAAnby5ElZsmSJHZ6cnLQ/S/nud79bL8EHMDdp80LrvvUyWs2XqOnfPtneUt11pjWb264jGuhsbxktejEZgGLTCT7mydMuwOywf+RM31UR6CMxY9o8MVuF/2xuu07YGpaR9C+AA1A5gg9gRtwTLFn3W0DN2KdsFngABtQawQcAAMgUwQcAAMgUwQcAAMgUwQcAAMgUwQcAAMgUwQcAAMgUwQcAAMgUwQcAAMgUwQcAAMgUwQcAAMjMKyYRfAAAgMxcYBLBBwAAyBTBBwAAyBTBBwAAyBTBBwAAyBTBBwAAyBTBBwAAyFTD1NSUGwQAAKgtjTuo+QAAAJki+AAAAJki+AAAAJki+AAAAJki+AAAAJki+AAAAJmqr+DjRL+satwkOTc6bblN0tjYKI2bZrwm1JPxXbLanNfVu8bdhPRy3eZ6aOxOfW3p8rHbyXVL4+pdUvkeZGRO5lFOuhtXyzR2GcAcVVfBR27nVjmy8ZPS4can40T/KmnsfEJ2HD0qO57olMZV/XLCzUMtaMGhhVYhlS74xmXX6soKOV9uZ68Mt7eL9G6ouKDqGJiQoa5B6UxVKOZk/2C7rF/TZMfGd63OJuDQQjt1Psab93kEYF6on+DjRL/cucf83GMChsAXcHFKqBmxtSaNsuK+6+XoxGHpWbZMeg6bL9MrtsqKxlXSTwRSE7nuThnpG5WJiQkvDXXJcG9rYsE5vmuD9A67kQpo4dY52CVDhw7Jtq5h6d0ZdxX4gU186hw0iwz3SmvMvFDBmdsvg+3rxZWrMnZsWLq2bRY3WhsaeHSOSN+oy8fRPhNAJOdjnPrPo+JA1UudMihmf1vj5lUepAKof3UTfHi1HkOFQiwuDW10SwflZJN+Sa24T64/apY53CMnNjXKKhdtdOw2045eL/et0C+yKjTpIETvlg9tDhQ5HQPm7tmUX/sOFt8Fj++SDb0iXV3mzrwSpmBuNZ/rGx2wtWIdA6PSN9IZUzA3yeZD/vVilmlvLxTm0aQ7Kaag9scP+QWnKZy3D0r7+jVuXO/wRQY7XWGopXOkcO6e8UXlbdOU3pLPyqbNsrevPT4f48yJPOqQgeD6/WQCrXbzX/x+eMcDYH6pj+Ajt0k696yUHVsq+5rJmSCjsfFOadGgw9Z2eNM14Ljt2ArJd/lY1iOH9YvsaIvcqV+GdsYJ6V9lhmmWyYgpsDTy6NsrW1rcpDS0D4MpzLqGDhUKZluADklbb2uJgr9JmtuGZd/B+KI7p6Vl17rigi23M1QzM75ruwx2BYJiLZDb+2Q0XzhOyMBMS8fxg7LPbLNrXXhFTc1tGsVJwiEUzKk88mpeytXoJPYnATAvzH7woc0lndreckS22tqJSCoRHNhaDQ06xGtyCX5OV7nHvxPTpAGHH4TsnmlpgUSmINSb+MJdsSfX3Sq90id7g7Uk5WhThLmdbxtyhZftTOl3TDR30eaOecSc46TCtWOLNl3sjKnt8vor9BUFu64GIi8nOzVeqjAonp52aWl2g77mFjO1jDmXR17Ny17ZYH4vY5pU9Hj091eGZG/zmNkagPlo1oMPbW6RHUfl6I6VstL8zN89aYptZonhBxVxya5jowwVBRxenxBtpnEVJpgpLfhMQThs7nqDQUahL0L6fhP2yYtOsVX+iTULTZvl0MSQiAaZcaWrmb+ta1C2R+6gvTv1QBOHY/ujmACpT1sb7IQxGQn0a6iZsWOS3A1mWI6NucGIuZxHTZsPmd/PmCaVjgHv99YcUFOHSW4ygPll1oMPrb047LeXlHHi+BMiK1vSBwv6yO2dLXJ0Ynfxlxyqyj7t4AKP0WCQEemLkIYWqnrnm6693+tHMNqyPfZpC+/OPvDkh92fNhmKKa1NDCB9ezdLvgJCC+4KAqbaiKkRMeZiHtlgya+JDCa9bhI7nJqU3G4EYI6qmw6n6sjWFeEvHdscU57X9yMm6eeP6NMubpz+HTXgteG39g5L15C5Yw0VRH4Vfbhg0WVFBs3NuBmPKVi0E6ve+VbC3knHFYJaOA61me2vll057RuhT5TEF9gdA8E+E4ZrAgilmM6UM37E1DavxNRwlKgRmYt51Kz7rLUakWS7iLS3e9dPzPxKjxNA/aur4KOo2UVTvlnkhBy874jIFctF9F0ekReIxX42mNI24aAiti/HsPdERHEZEXyyopBG+7Qng3uKIouCpWPAbNPc3Hd6HV6jTQmJ/CaAYIrpTBlboFeiaY2sN1kyMhYOYcbHRrTzTO2bfdQs5ZFtkhvpk72H9krLdl40BiwUdRV8FHOP0dq0QrYeKfTdWNky054aPO0yc94jll1D6ZtUMmc7YDZK6771pjAcsk9/NNb0bZreuywqaykwQdo2fT9KoOnD7PcGrU2q9ftFVOZ55NFmGLtNG5hooLpNjrVW49FlAPWuvppdjkXDgA7ZHbx7sn03crJz6xG5YjndRGeddjY0P/Lvdwil2b2LtX1QdD9aj8m2/J23e8/E6HrZ55qBqv44p82TLok8NVueX/PgN08Fn2CpkdnKI7/vx/51/jZ93rbX7df51IIA81ndBB/L1lwvK8u+3VRTp+zZOCTRh1eK+otEU1H/EZ52mTHtK6AFVWyK9A0ISHzSoQr8gm2D7HX7EbOdwH5vO6Z3+eYz1brd1n4ace/GSMHLl0Ie1irwmK08CgUdJY7P9meZ2CuywVueDqfA/LPoG9/4xtTVV1/tRpOdPn1ali5d6sbqi3Y4vbPlaOmnZvwnXwg2UENawG5vGQ2/9RUA5rGTJ0/KkiVL7PDk5KT9WcojjzwyP4IPAAAwO6YTfNR5h1MAADDfEHwAAIBMEXwAAIBMEXwAAIBMEXwAAIBMEXwAAIBMEXwAAIBMEXwAAIDMnDaJ4AMAAGTmfJMIPgAAQKYIPgAAQKYIPgAAQKYIPgAAQKYIPgAAQKYIPgAAQKYIPgAAQKYIPgAAQKYIPgAAQGampqYIPgAAQLYIPgAAQKYIPgAAQKYWfeMb35i6+uqr3Wiy06dPy9KlS91Y9Xzta19zQwAAoFZuuOEGef31191Y9Zw8eVKWLFlihycnJ+3PUr7zne/MfvBxzjnnuCEAAFBLBB8AAGDOm07wQZ8PAACQKYIPAACQKYIPAACQKYIPAACQKYIPAACQKYIPAACQqQb9Ay8AAABZoeYDAABkiuADAABkiuADAABkiuADAABkiuADAABkiuADAABkiuADAABkiuADAABkiuADAABkiuADAABkiuADAABkir/tAgAAMqNxBzUfAAAgUwQfAAAgM6dNqrvgI7epURobN0nOjRfJbZLGVf1ywo2WVMmyJZzoXyWNm6J7lJNNjY2Sn6zbMuPJqcQxoepy3SbPu2uU4+O7ZHXsOQ6n1bvG3Qeqzx5fzDaL0updUru9AIDKnW9SfQUfpgDv3LNRdux4QjobV0m/HzUkBBFeoBJIukwwCOjcI3Jkq6zILxNY54l+WZWf7lIlgcqJZbJlYkjMjsoqXWnHbpmYmEhIQ7LRfWz+yUl3JB9jC91cd5llUqwnodAvjjFysn+wXfq2dLjx9MKF+mpJjh+6ZCj2XHtpqMstFpIyr1Qkv+ICqfa+0dht+2m0r90tWX3ju1YnBHcVHGNAqXy32wqsL5pKxphlr7ugcdm1WpfrNkcBoJbqJ/jQYKDzCdlxdLf09ByWiaErZOsKV7An6Njtf9F6hfvG23pkWTAIGDJTV+6Qo4FlwjYWChBdNrWcbFpxoxw80SG7zWcP9yxz0xeeXHenjAQLQVPqDve2hr/ktQDoHJG+UbfMaJ9IZJlU67FMUOGvx6WBSIyh6xqUYbOJQqGTnAoFnRZy+9cV1uvtZqkApDJpj9EWxJ0SDm6iBzlbXADY2jvsJoSlP48F5fK9afOhwvoCyQZ4XUNF5z8vxXUXNL5rgyQcFoAqq4/gQwOPFVvliqHDki/HbRAxJFdsvVH6j7tpsU5I/6pOeWLHUdnd4TWF5AuWUM1Hp+yRIzagKVXDcTBam2LSiq1HRPZ0euNpamD8VNRUM/90DEzIoc1NbszoGLCFwvC+g66639xNbh80hcQ2yS/WtFn2mrvywjJp1mOMHTMhRZs0BxYrYgqczsGYWglT8LTH1lYcyu+XFnLBgqxpzXrzmWE5NuYmzFCqY8zv/4DUSbiRZ2sgNojsNflmC/4YqY4xYlr5boKg7SVrt9Jdd3lmfRt6zeJdtastAlAw+8FHPvCYMMGDm5anNQsmIFnuRoto4LFC7rv+qKt98Goi8gVLUc3HStlx1Awf7pGkuoo1+dqUQjq6Y6XIxiFvPOGzK03wU/SZWLrPJjCppIlnLhs/KPvM3WTXuvDJbWpu0xJJDiaVSNOSk+7OQXMznEXBPSidcQGnS2Y3piW3f1Da+7bUXeChbA3Eoc1SKvYrzzVtzKgvilmHRgp9ewuBRXS9FV13hfVtaXGTANTUrAcfuZ1bTcG+UZ7oDH95e6lMJ83cTtFKiSNbV3jLl+zzoTUfaWjtSaBvCCpj70hF2tevCRRS7dLS7AZ9zS1magkx6xkfGzH/hgv9YHv/+K7ttsp/QCL9JTS19pp76biAIal93yuQhhOr9afT5yOi6Bi1r4pIm8krr++BSwkFtTZnhI8lnJKaRjIVez2UUi7fDfN73zvcJduCNSyx0l13ue5W6ZU+2Vt2fQCqZdaDD+23cdjebgT6X2g6ukOS6g7yov074qblaz40BZp1rD2FwkgDFatDtuwQ2bqzsiaTfADkkm2qibVMeg6bfSlR+zJnmYJmtRby7YEvcttUkiShaj1uPUa07V87VA6aoNUPQHR+vsrffHY0sGxys0uwlsTdPdtz2Cr71o/Wrq9FwjGqwU7btuH2b9QUi73SGhOAzGaH01Rij7FJNh8y+xeqQakk382yJpoprh2KrDfldadNSbaZa8Y1OgAqUT8dTuOsbClZQAcfgT1x/AmRK5aL6DQ/CCh62iXagTW+w+mynntlxxOdhcdoU0jf7DI/2f4ArqAZTf1FXnxnWsl6NNjQGobB7dV6nNQVYO4c7pUN9popepqiZMFWXuIxjo+J1u20h5oTzD7tNYHTcK9UGA/Pqsquh5T5rlLXepTirrtct5hdlL7R+utfA8x3dRt8nDh4nyTVHfiWrbleVu55UHJyQg7ed0Q2frLDBA6H819ixTUfaZ9MWSY9t22UPQ/OoW/7WePdtWoVf9eQyeNoQWOruWNqOIoK8DLrSdDcUru7+3xwsz98HcQ1/0RTfJ+PMsfY1Cxt5kdbyR619W565zEoKd/turUNp2td+WCh7HXn1mXGgk9FeU1V7tyWfIYXwEzUV/ARePeGNlvYR2fdrFjLeuS2jXvkzk075b4jG+WTJZ928VPK/hzafFPcAzZR+maX+cW2l5s7Ua1Biq0pb1oj6018MDIWrpuwBXj7elnjSqay60kwdswUFm3NpoDzCj2b/1ryD/dKa+B8JPf5MKmizo/jctD2ZHQdkBNSXJ+P8sfYLBpLRfPKE9N/oQ5N9zymktCJNFbZ6y5c2+Inr6nK2/+6ebwZmIfqK/gwwcThwBfBbtHOo5skp4FAQh+Jjt1DcsUeE2Ts0DbgUk+7+Cna76M6os0uNsUGL/PpaRevg2Tpp0vMl/w2fdfDhsL7Msb1sUZzZ7zNvytOsx4t2IpfPtWZf9wyvjDJp8Q+HybZu3N9OVa486m3/khhV0kBGFJJXrUGmhzMfmngFHxkdMa8F4FV/8Y+zTG6IDEf8KXMd2P84D4TQHZJfNZH15vmugMwW+q6z4ftx7Hxk6ULpE3eUyxezUOkVqNE0OKJ63BaOdtptlREc+K4mCOZf1wfBe30WVSbEHxLZceAe3GUm2cK07ahwJ1xyvV0DOwV2VCY19rbZoKJwns6ZqZDBkZbZHtg2976g3fwpoDTJzHa+6Til6dWkFcaKI3kl+uUQa1libkLn/bTLnZfkgrxGUh7jCFp8t1ja7naWyR1BVC56w7ArFm0b9++qY9//ONuNNnp06dl6dKlbqzavPd1FLdU6Hs5DkvPiU2h4EBrGbSw15d7dYr5YvZrGPQx2zRBhNaG3Cty44pjctvEbi+40c/e2SJHXbBi1x1Y1UbzpVWoyNDmnTulRfctKeaI7ou+J6SCZhxUmX3y4phsm5hB50L7xkx982jcOvTOW5sc3KitZZnBtsrQt6BubxkNv9ArQmsQWvetL+7wqcexfx3NCgCq4uTJk7JkyRI7PDk5aX+W8u1vf7tegg8AWUkTuABAWtMJPur7UVsAVVf0CnQAyBjBBwAAyBTBBwAAyBTBBwAAyBTBBwAAyBTBBwAAyBTBBwAAyBTBBwAAyBTBBwAAyBTBBwAAyBTBBwAAyBTBBwAAyBTBBwAAyBTBBwAAyBTBBwAAyBTBBwAAyBTBBwAAyBTBBwAAyBTBBwAAyBTBBwAAyBTBBwAAyBTBBwAAyNSiffv2TX384x93o8lOnz4tS5cudWPV87Wvfc0NAQCAWrnhhhvk9ddfd2PVc/LkSVmyZIkdnpyctD9LGfr2t2c/+DjnnHPcEAAAqKV6CD6+XQ/BBwAAmLumE3zQ5wMAAGSK4AMAAGSK4AMAAGSK4AMAAGSK4AMAAGSK4AMAAGSK4AMAAGSK4AMAAGSK4AMAAGSK4AMAAGSqYWpqyg0CAADUlsYd1HwAAIBMEXwAAIBMEXwAAIBMEXwAAIBMEXwAAIBMEXwAAIBMEXwAAIBMEXwAAIBMEXwAAIBMEXwAAIBM1UnwkZNNjY3SmDqtkv4T7qNGblOjrApOCCg1DwAAZK+Oaj42ytDEhEyUTUNmyTJym0yAssmENAAAoN7UUfCxRzpjazmiqdMsWezI1hX5Go7cg3tk5Y4t0mHHUCu7vvO0LP+vj0vjZ7+bKq284wfyF4//m/s0AGChmoM1H5oOS88y85ET/bKqcZM8aAZX7jgqtx1bIZv6++VOE51oMKLBSmdg2E80w8zc//39f5XevxqTn578pZtS3j/+7BXpuvdJE7Q85aYsJDnpblwtu8bdKAAsYPXV4dQ2lwRrOZKS16Ry4uB9cmRli7R4n5aO3RPyyWNb5cjGoXygMrTRC0yCwcthL3KR/lVmXav6zRAq9d+/83M3VLld337aDUWNy67V0XOdlIIFuX6uRME+vktWN3ZPqxlufNdqaTTrXh27D4G0epfZi1I6ZEufSG9ruf3QICVm/UkpsF27r3HLJKTVZSKhXLculz7fdPnYdea6U+RP0AwCNXuuU35W9yv2+Crf/uzlFTA31Vfw0bE7FCRo0uBh41B42sTEbtukcuLYEVl5/RpZ7n3a1oTcuWejDO2mwaXW/vGpl91Q5X76XOnakq6i8x1NQ9LllvU0yeZtbaZgdwWGLVQCBW1rrwzLYKRZL1pQuMCnOzg1Jzt7h6Vr2yE5NNon7WarcbVzo33tbnnHFoDBbXmp1axLivbDS+GCKLqdUdFNFOXLUCQXNh8Kz7cp4bMmHdrc5D4Zr2PA/P51mf1NVRjmZP9gu6xf463TC9rquxDN7R+U9r7i5tnxXdtlsGublMmekFrnlQ1uEpcJX7vxQWg4mCq9PqD2Go78X3e4wfpwon9V6JdGm032dBbGNfnNJlrT4dViOMt65LALTMpbJj2HzZfw4R4zhDmvY8AUxiYA2WC+UHU4WNDGBg4DoetkfNcG6ZU+GR0oTLWFUHufbNFJTc3SJiMyFvNtPXbMBBVtzSYECooPVJJSuUCgdkrXNnUOmkWGe6U1Zl6o8MrtN3m1Xlx5avOka9vmSJ5EJdXydJoQbdgEk3Hz0tcuJHLBoR7bcG9rft1eAOgFnDLYGdimJi28Zy+vOgZMEGmu0A0xtSVx1270+jO/AoXg3Ci1PiALDQ8n1YBn6cRxecINWpFmk2DNh46XEhe8hPt8hB/TxTyiQcehNXIwWkDE1nw0SqGSw6/hCBYA0WnN0tI+LMfG7EjAuIyNmK/6deVD3uKqdq/wDVW2ZK5JNh/yf7+0lqRd+kYLv2+hZGtaAoXaIT9vTKG8fVDa169x43pnr+W3y2uvlA8Vyt4xd8hAcP1+ssFi0n74QWNCIGDPdULgErrTDxfOfiVSrtsEPl2F7x8v+TVts5lXWrvXZWbtNJ8Iirt2izVt3mb2Zlj2HfRzIGl9QDYarnmXG5ptK1sKNRB7Cncd0ZoPHS9lWc/h0JdAcZ8P11kV80SwENK7Yr+A8AqM9r7RwLn3k9cUkWfvRF0Nh2MLITfsaZI169tlcH/kq3r8oOwb7pLY2CPS16S5pV2Gg9GLbtcUsi3NbjwvGii1inczHpxmkr3VrqYmaW4LFlBh2kxhoqzimsXcTrt/Pq/ZIlCAa0Fs8nc0cA4KN+ne+Yvt/xCQ1EeiqDkpKXCJNFHF2rdBOgdNwBCqQUgyC3nVscVct4MSugRjrt3U4tYHZKQu+nzYjqNXLLfBR1zwEO3zEWpqQV1439K3yP921Ttjk86rnXCwUeDdVe+VDaagNgFAUafTQqFvC4pAs4m2mXeOdElXpCtH05r10j64P3SnmNtp7rTjChllm2oKX+5NzW0mgih8flyrTALV7wXhu/I0fT5sG34wMMmnhMDFT5Fqlw7bKzbubtjrp9BXVMp5d/IFeicuMcsl8c5f/jy5qXmu/06nDMne5rFAzUUNrN9r8jXcHFfKbOSVdwkVthi9dpN4wXSXbAs17xWvD8hKHQQfJ+TgfUdk4yfNL2DM0y5xfT40bZrx7wtPu1TbVMJ/2fOaM/RO2euEGS1QtMA75DoUes0m7YHqh7FjbTJ0aEv+Kaq8pjWy3twpbvfvwE1Asz22kDHaW6TZbHWdiQ9G/I4izS0m5PH7jYzLwX3Dgep3Z3zMLFE57fAYCkzyKSFw8VP0Lr9ps2zrChyjk9QJ0+9v0OfHQbr/sQFVafHnyfD775j9bOowyU2euXDtUqESyauJSdUUNgt51eFdUC4IK752C8LHt3+dnu/i/A2vD8hOw8nZ7vOR2ylbj2wUjT2slTvkaODLMV/zcXSHrLTzjsqOlW5Z1I2fnHxNvvrov8QmnVeJxLv0fIo2iUQFaj38dv6xYzJsA4J4bc2FEqBjIOnu128n3+B1Ptygt617i5+K0G25QdvUsu+gtw+2JsTvNzImx4YLTzzUE++OXo/RTch1S2uvCchimiPMoZos2FzIV1MgH8r3bygtsbamVL8NTYHIoOhaSfpsURNVfJ8Pe44PDYkpuQvNPDYgbJPAJZKXVV6FDB8zV09B8NotKByfHttgZ0ytki+yPiALDf/gBmaLvo1041D0CZXC33rJ13ys2CpHjmyVFY0rTLDiFotKqDmJvmTMq+3gaZd6lXiXnk/RJpYg785Vz7N9tNXvvBfTka9cP4NY5k58qEsLt1Z7F7u3KPJwXFW4barJf7lrp1VXExJ54iFstvp8OFoo6pND+nREbpes7hyRvtH4gKxjwK9BcqKPOfv7Gcl7DQqbE2prbLeH9vZUtTVV7fORp8HrkLT1tpavAckor6ZxpeZ1DOjvi7mmUlXnANmY9Q6n+rhs/rUc+p4PGwx0yO7gF0dMCr7KI//Ibcx7QmITAUed8tr/bdmiX8yhL91gdbgWDpEv8jxvHeFz7gUr0YIq+HhrvmmkEgl3jPb9EX5VeKjfh9fGrp1O7TLRJhdj/OA+GY50OEzT56PqTJBlH8/sTKjdSRJ9zNnfz+gxJdzxe/1tTFB3aK+0bA+/myIscK2kYZ+EqqSWwas9S7X+rPMqUoNX/to1x6LrHeyMD6ZK1AgCtXDapPp6yRjg11zoHeS2NW6aZ81erzo8+sKksJx0h4IW7f/RKYPmTnpEP1t0F1kICMrz+pJo4ThqAwKtoYhWZ2s7fLA5JVDbYdi+GQMSeslUUPw7QzLm3oPRum+9OU6vBqB0nleHNsPYbdrCVoOLbXKsdbYfRXaSCuiM88p2Us5fHxVcu/bJFhN/bA9f/+H1Adk436SG0Xp4zwfmnPdeeq4bqty/f/eFbijM6wPQKr1t+ujhIdncoUWQzww3eXej9mVitk0/UPDbdnkNBrZLy14tvPzml04RrTE4dEgOmc+Ort9nq7SDBVqaTnfeWyM7ZUQf3c0XjvryphHbRJJvwtFHKSXYnOItF3qJWFKTS6kOrNPm9S2J7ZMYkX8zZusx2Za/43Z5Prpe9rl+FNNqrirB7/thO0WG7vK9ba/br/OrXaCHm7ZKtWDZ2ig37JudvHKdlAMnM32HUXMd7u2Tdm3SyV/8xesDstLw9LuucYNAeps/Pv32urjPagFk37GgX97l6rptdbWrefC/SLWTp31fwl6RDfrF3yrHtpl1mfUFV+c9VeHVoOS/gzvWSZf5Ut4ZCEgKvCDGu7MtfhOpvz57x9u9yz5K6b3wyasl8Qu3UIpr1zc7Ywu5cq/1dnfa/nrimm5Cy9han9JPVPiF/wbRR001z2L6LGjfBjtvQrYdc28FzWfg9ISCjsh5CvKe5PHP68y360nqcGpE+mK02tYULyiarbyy3DtlQo/Lxly7iU8O+fvlZ3Tc+oCMLLrvvvumfud3fseNJjt9+rQsXbrUjQHeX7bVPzCX9u+8aG1Jz8ffLf/vj9XLm+0K9E62UOUP1B8NfLa3jBYFwNO9dpPWB1Tq5MmTsmTJEjs8OTlpf5byN3/zNwQfgEdrOFyTT6pehkB2NFCwfY1iA4zKr93S6wMqQ/ABAAAyNZ3gg6ddAABApgg+AABApgg+AABApgg+AABApgg+AABApgg+AABApgg+AABApnjPBwDMojfeeEP+5V/+xb6OPc07EoBKXHjhhfL2t79dzj77bDel+njJGADMIRp4/PjHP7bfrZoaGqiMRvWcOXNGTp06Jb/4xS/k/e9/f80CEF4yBgBzyDPPPGPvSt/2trcReKDq9JrSoPbSSy+1tWv1hKsdAGbJyy+/LBdffLEbA2pDAxBt1qsnBB8AMIsWL17shoDa0Gus3voTEXwAAIBMEXwAAIBMEXwAAIBMEXwAAIBMEXwAAKpivP8qWbz4KukfdxNKGe+Xq9Iui3mHl4xh2h555BGbnnvuOTeltHe/+91y9dVXS3t7u5sCLGxPPvmkXHHFFW5s7sjdvFjW3uNGKnHl3XL80R5pMoMaqCwfvV0mv9xRen03HbDLYGaeeOIJufzyy91YdfGGU2Tm8ccfl4ceekg+85nPyLJly9zU0n7+85/L4OCgfOxjH7NBCLDQzdXgY+ZycvPiB+TayS9LPqzQmpAbRL7qghOlQckdrcfl0R5/im9c+q9aLre2eYGJDWRufdzN810pdx9/VIIftUHOSCEAWkjqLfig2QXT8t3vfle6urpSBx7qne98pw1WtLakWE66GxulMZC6c25Otxn3R9IY3yWrG7vNGv3R1ZV9HkA6tulksX2PRKl0c+TXL3fzWpEDGnhoEGGW0QXGRiUUPph133HPTXJ7UeChs26QW8UEEcEaEa1VMQWfFn42Hf+0fH25W7fT8eXj5lO3yg209cw6gg9My1NPPWWDiUppsJLcTNMlQxMTMjExZIbapaXZCxw6B82swc5QYLJ6V+HLwwYngXmNrb0yLIPS6cZbe4eLPm/T6l3mq883LrtWm2kuSLEBSyCACfMCJX8f7PZD6wIWkpvkQLDQDyVT2F/pFvPlbpa1ckBs3JDbEQ4iHh+VMW/IzLpV5O6thZqRvJzsuPVxuen2MrUXTT3y6OQBuemetXJVPthokp7bb5LHb92R8LuNrBB8oO6M79oug13bZM3B1dK6b72M2oDEpaEus0SXbNtc+NrpGAjM1zTaZ0IXP5CZkNG+dvORIe+z7mfXkJl3aHP+y2t81wbplT4ZHSj+qiunY2DUfLJXNgQCImDhuEfWxtR2eGm5RFtDxo+PmI+s9eavHZG7vxoMIu6RB2xUMC662OO3LveWC1ad5B6Qe668W7am+lXtkK0m+gkFGx1bTUDkbwezheADdWZcDu4T6WvZL63H2qRruFdag7UVXjWIq9VIqJlo2iyHJgbyd0xNmw/JRDCo6NgiLduDn83Jzt5h6dpWCEYq0ySbt3XJcO9O7qawsNjahbgaj3AKto409Txqpx24SfuShvtkqHtsVNAkPY96n9Xlrmxt9mYauQfuEWlbnvp3tWntp+VKGZHj+XuDJlne5m8Hs4XgA/Ult1N627bJ5s0DJmAYkIFgjUYoadOMo308bLNHcb+RUNLAxTa/tErvsAlg8p1K9stge59sqbzSo8AENH3tg7Kf7zMsCK6vRqiWo1y6OR+c+x1Jg0GJrRG58ia5aeSOwOO3OXngnivl02vzdZS2RiQYjKTzuIz67TlGx7Umohk5btaG2ULwgfqihfhIp+tsWiqY6BStAylWaG4pSn6ziz/uakNy+82a2pqnWevha5Jmczc1SPSBBeSmA8W1HLHp+N2S7/oxrh1JA00qJnn9TR83v4fXytZPi9y6w/s9Gu+/Q+656fai2pG25ZX+tl4pRfFKoH8JskfwgTrjNWF4hXhHupoPZZtnXEBin3aJBiurZZe0iPeGEe1casbtbc+4jJk7qXbt3Vqk0Gk1nOIDn451Zo9GxribwgJTqhakUNuRF2iq0SYVfUpla4fWcJhg5toOM/urcvfIWrm5v19usH1OZ1IlafbuwNflcWmTiuMV1BTBB+pPswkSBvdLLjaI8FMgALB9PCIBSXuf11F1qMsMjpp5h2SzxhcaHIwflH2yXtYEvozamuO+mZJqUSKBT9DwMe6msCAV1YIEazsitNlFgxNtepnUd25oJ1K5SUzsYTRJz1fvlpFbNfL4alGthxopdOAow3sy5sq4p2aubJVKG29QPQQfqF/5oMKkfBARDAK0U6l7RDYakPgdVTsHzWCr9yhsU7O5/zkmOzf0Stu0O5cCiHPP2kitx/Jbw+/tcPz+HhqgeC8PG5f+O+4JBAg5udl99vFbb4i8ft3rLPp4sANHktzNZj/Wyj03HSh6SZntX5LvtKovPDP7m3+iptw4qoHgA3Vlv74zo7VXH3eR/dpUknMvDOvYIuv3bXBNJUau271bo0k2H9KaCK2liKn5sMmf3iwtJjwZbBuSgWa/k6pnZKxKjSXtLdxNYUGK7/8ReIOp0/FlP+jw5G5ebt/18VUzzfvbMGtl5G4vOJk80Ca3Ll8ceE9Hic6ij98qy/3AR5O+x0zXEezVao3Lga8/Hui02iytoSqacuOoBoIP1JV17p0dh5qPyWD7elmTL8m1L0ib7DtovnI08NjeIqPbjklr0su9Qo/ouhoRfZJmuF36/MdabCdTr6Po8LGZN5aMa+eRGXdcBeYa77HYojLerzHQpDUZN11b3PRhO5/eJAce7ZGxmxfL8lvbbMCQD046vmyCkAPSpp1T/ZqHjmvlJhNouD6plv/4brnAxxo/IF9/PPjmVPdYb/4Ayo2jGgg+MC2XXnqpnDhxwo2lp3/f5V3vepcbS5KT7s4R6dsbaRrpGJBDm83dkV/Im3H7ojB9VLZrnXTYR2ZdzUO0z8dekQ2dIn19Ir07zbfW2DEZtis1q61KR1F9P8lwQsdVYL5JCjiCOuTLwWAgbmHb+dQLErRGJD5gcOvJf957cdg9d/RP63c2+c2pyBLBB6blox/9qPzlX/6lPP30025KeWNjY/YPy5X/o3L6lMshsS8xbVoj69vDT53YVpnASzly+02gYsb1kdn8i8KifT7Mh9qGBmTz5kMyJJ12etc6t46OdfZlZhqT+OyLyQIvKgvznsLRQChPO7EOh9+8CqA27BMxcqssr7Afhv+H5bSJB7OLv2qLafv+979v/8Bc2gDkkksuqdu/aKt/y8W+yj3wyvVK6N932d4yGg5IgDIW7l+1Rdb4k/pAXdKnZlqlt20o/Cr2FDTw6Bzpm3bggoWL4ANZ4U/qA3VJn5qZqDjwUPYP2xF4AEBqBB8AACBTBB8AMEv0MdQ01dTATNTjNUbwAQCzRJ/e0vZyoJaef/55ufDCC91YfSD4AIBZ8o53vEOee+45G4BQA4Jq02vqmWeekV/84hfy9re/3U2tDzztAgCz6I033rAv7Hv22WdlamrKTQVm7qyzzpKLL75Yli9fLmeffbabWn08agsAADLFo7YAAKDuEXwAAIBMEXwAAIBMEXwAAIBMEXwAAIBMEXwAAIBMEXwAAIBMEXwAAIBMEXwAAIBMEXwAAIBMEXwAAIBMEXwAAIBMEXwAAIBMEXwAAIBMEXwAAIBMEXwAAIBMEXwAAIBMEXwAAIBMEXwAAIBMEXwAAIBMEXwAAIBMEXwAAIBMEXwAAIBMEXwAAIBMEXwAAIBMEXwAAIBMEXwAAIBMEXwAAIBMEXwAAIBMEXwAAIBMNUxNTblBAACA2tK4g5oPAACQKYIPAACQKYIPAACQKYIPAACQKYIPAACQKYIPAACQKYIPAACQKYIPAACQKYIPAACQKYIPAACQKYIPAACQqYZTp065QQAAgNrSuIOaDwAAkCmCDwAAkCmCDwAAkCmCDwAAkCmCDwAAkCmCDwAAkCmCDwAAkCmCDwAAkCmCDwAAkCmCDwAAkCmCDwAAkCmCDwAAkCmCDwAAkKmG/983/8kNAgAA1NaiRYuk4cPymBsFAACovYZ/f/WH3SAAAEDtNez+f6j5AAAA2WnYtGmTGwQAAKg9nnYBAACZapAX/tENAgAA1F7D7kfcEAAAQAYaNv3+v3eDAAAAtUefDwAAkCmCDwAAkCmCDwAAkKmGqakpNwgAAFBbGndQ8wEAADJF8AEAADJF8AEAADJF8AEAADLVcMkll7hBAACA2tK4g5oPAACQKYIPAACQKYIPAACQKYIPAACQKYIPAACQKYIPAACQKYIPAACQKYIPAACQKYIPAACQKYIPAACQKYIPAACQKYIPAACQKYIPAACQKYIPAACQKYIPAACQKYIPAACQKYIPAACQKYIPAACQKYIPAACQKYIPAACQqYapqSk3CAAAUHvUfAAAgEwRfAAAgEwRfAAAgEwRfAAAgEwRfAAAgEwRfAAAgEwRfAAAgEw1/MVf/IUbBAAAqK3/+Vf/UxpOnTrlRgEAAGpr1VWrpGHRokVuFAAAoLY07qDPBwAAyAzBBwAAyNT+h/ZLA9EHAADIUsP7znZDAAAANdb5yU5pWPGb73ajAAAAtWX7fJzzjpVuFAAAoLZs8MGjtgAAICt/d+TveNoFAABk55/H/5maDwAAkJ3PfOYzBB8AACBbNLsAAIDM2A6nbhgAACATBB8AACAzPGoLAAAyR80HAADIVMO5557rBgEAAGqLZhcAAJA5ml0AAECmCD4AAEBmeM8HAADIHH0+AABAZqj5AAAAmSP4AAAAmSL4AAAAmaLPBwAAyBQ1HwAAIFMEHwAAIDP2aReaXQAAQJYIPgAAQKZodgEAAJki+AAAAJnhDacAACBz9PkAAACZouYDAABkxja7/PSxITcKAABQew3f+dFzbhAAAKD2aHYBAACZ4WkXAACQORN8LHaDAAAAtbfoI7/bM/XgX/2JG012+vRpNwQAAFCwZMkS+3NyctL+LOWBBx4wwceNfzz14N23uEnJFi+mhgQAACRLE3wMDQ2Z4GPDnVMP7ux2kwAAAGpHg48G+fkzbhQAAKD2GuS1J9wgAABAbblHbcu3zwAAAFQL7/kAAACZIvgAAACZsc0uv/6O89woAABA7TX81trPuEEAAIDaa9DqDwAAgKzQ5wMAAGSGv2oLAAAyt+h//I//MfV7v/d7bhSY23724qRsOnBKnvjFG/LiL8+4qahHa5vfIts/frG856LK/27Um2++KSdPnpTXX39dzpzhPNez8847Ty655BI566yz3JR0pqam7HnWn5pQvxoaGuz5TduN46GHHpJFf/mXfzm1du1aNwmYuzTwWHXvM/L5D18qPR+6RC4+l4q9evWCCQy/+g8vyB9/+1k5vOHtFQUgWiD9y7/8i1x22WWydOlS+8WH+qSB4alTp+SZZ56Rd7zjHakDEA023njjDWlsbLSJvon1S8+V3gS89tprcs4556Q6VwcOHKDZBfPHtu+8IH/0sbfJH169lMCjzun5ucUEiLd8+BJbU1UJLcx+5Vd+Rd72trcReNQ5PT8aIGrSmqq0NMA899xzbSLwqG96fjRA1HOlAWNa/OZi3jhw/DX5L79xkRvDXKDBxxPPpP/CUq+++qpcfPHFbgxzgQYfenecltaY6F005g4NQCppHiP4wLxCjcfccvG5i+XFicr7bCxeXHk/EcwePV+V9s2hxmNuqfR88Z4PAACQGY07uE0EAACZIvgAAACZIvgAAACZos8HAAAljcn+P7tXhit7KhwlUPMB1IPxfrlq8VXSP+7GUxrvv0oW35xzY6gH9pwsXhyfyp6rnNwcvA70uriqX/KXhb1ObjZL+XT54Dhqo1k+/BGR7w3uN2FIKRqk/Jn8Wdp077AsxHhGKz0Wfe1rX5v6xCc+4SYBc9fFdz0tk3de7sbqjxZKy2993I15rrz7uDzaM2YKkLVyj5uWd+XdcvzRHmlyo7G0MFp+q4hdT8kl69bi256UF77wLjdW3k9+8hO54oor3Fh9sud69HaZ/HJHaPx46x1F14DnJjkw+WXpGB+X8bEdsnztPXLTgUnRj3vXTZubr+d7VG7XYRt4mOvmJnOdbDXXSZ2f/ieeeELe9773ubHSJiYmZu9dLqeG5d7B78mzbjSNyz7SJTe2X2KGNPg4Ji1/sM6EK75TMnzvoDx71R/IusJEs+h++bNHL5OuG9tFP+nxlv3e0k/JH4QW1t26Vwa/92xgWwVj+/9MvnnyI5F1Ze+FF16w7/so51vf+hY1H0BWmnoelcnJSZk8cJMXWJjhR9ceMHeyd0jrcTNd52k6frdcqYVRKPDQgibmTtoEHlqUPX7r8uJ53BHXnaae282ZvdLEipHzfWWrV1iZCKKp48v2GrlnrXf+9Lo5cNM9ckekWmy8/w4ZMUHn5JfrP/CYey6XT/3BH8gfpEzRYGC6Tg0PyffEBBGRwEODkuNPPiuXX365PPvk8aLakuZ1XeZT35OhOdQuRPABZCz3wD1y5afXmsDCBBQ2eHhcbl0eCBrstHtkrRsv1NRHCq1SyQYwmFX3rM2f00JtR7O0Xvm4jAbr7sdG5fG25TbQtE02esI1ALG1G56OL5tANVKzpUHJXK3tmou0duHeUOHuNbHsL90OU4Exeex7JsC4Kqb2Yuwx+d6zl0vLhy+Ty579njxWtM1LpP0qE5h877EyzUL1gw6nQKZy8sA9N8ntttDokC+bQOH43SZMuOmAFzQEakUmJ4+LzvLoso9K6rKmqUceDRRemAX+OfXPsdUky9tERo4XajFsMNrq7nTXflpuskGLq7WyfTySA1MvUcNVE9r88meFPh6XXnaZPPvsc27MGDsmT4oJBi5143lPyjdDfTsGTeBgpn4zOM2kbz7plnd0fZd9RD4crfQwxo6ZZS9vkeZLlsvll5l1HYsJMZo/LB+57EmJm1Vv7EvGCD6ADOUeMEVHXK1GafaOOFTgpEtXVdqDFTXXce1N8ni+6mNcjo9cKZ9e60WVTSZo/LINOoPNLNofxNVoFaUDZi5q4pJLZakJJPzC/JJLl2qpnw9GTj13UuSyy2V5UTVFtMmmywQFZuqngtNM+lS4f5oNMJZeWlzrYYKgR23soVHJJbLcRh+Pxjx5c4l4u1j/0YcNPtwwgJobl/477nE1G8FaDcOvol9r5j9+qyy3wcNy8Wvr8/1FipK3Hu2cGDefavlZFNvsYjS3ypX3POBqNg7I1+XT4mIPp0l6Hg2eu2hNRzDFdFTGzF12mVwqzdJi4oOTz7lS/tLL5DI5Kd6o1wfjssuXh4OFU8+ZJabjlNhYprgaRU4df1KeNQGNjT2MS5ZfbvbjWXnyeHH/jmZvh4v6hNQjgg8gK7kd+WCiSNlmF1/kUUzUr9hmF6OpR26/6R55wEQfuR23itj+P0HRc0zNR6aeezb/pIttavE7eNqaEDPPtrw8J88+e5lcXlztMSNLL42uz+sHYptc3BQTfdiml8T+Hc8+a/au/hF8ABnJPTAid989w6Ji/LiMXBm9U9ab7OK7Yppc6pc2veg5W5vv/xOg51jaZHlkMjLkmj9sLUO+ML9UK0S8mhDbPyOuyUVNs89HHNuvxHjym4HPeuvT7cyF/h1JCD6AjHR8+VHpWe5GAsZGHy/b7OIbP/B1+2htVFyzC00udSB3sz2vttnFnWPbz6fjWq/G4qZrizoF23Mcmk6zS5a070W++SPU78PrU6GdTu0y0SYXwzaRXPYR6Qr27UjZ50Plm3isUzKsnT2K1qfJW+eTj8a8pMw2GdU/gg8gaza48AMLffolEDyUanYZ75cb9EPm8zdQq1G3cjcHgo0HrrXnNfhE05eb9QmWtTJy9wG5e2RtpIZqXA58/fHC0y8WzS7Z0b4XweaUQG2H0bzOFPzrRI49Gd/k8tyzz8Z3Gi2rENjknTouT2qLS9yjt2aKPlorzz4pwa4fthPstLafPYIPIGv54GJSth6/w9y53iTXln0m1nsniL7JVAucNn2pWPC126gb+k6OfHDg3nDqs08tufP4aE+H9DzqzmX+sacxGX288PRLWbaJBlWj79OQYHOKKeRvjLxELKnJxT6Vcpl8JO5Z2RSinUXHHtO3rBY6mhZpbjFzn5Xv5V/64TrBxnRarUeLvv71r09dc801bhSYu+r99erFxqX/quUyerv3Gm1Lq+nvaJUDn/66rLVVI95rt8XcTa8Vc+ccKMy8127b6pNkercdKQDrzXx8vXpU4Vzpi+Ki72vxroNb28y5uvYBWbxWvFep21nB16k7eo1o85xPg9lyr+GvA/X/evXga9D1BWLf9PpbpHH5p6Trskdl8Nmril6LHlrvpeFXt4dfle5tUz4VeQ17Wib4uXfwWbkq9Gr3bKV9vfrDDz9M8IH5Y+4FH1ALIfjAHPrbLrPI/v2WJy+f1t9o0TewPnpZ8d99yVIlwQfNLgAA1IFL2jvt32gZrPCd7f4fluucxcCjUgQfAADUBa+PSXHTTWm2I+ws/0XbShF8AACATDVMTU25QQAAgNrSuIOaDwAAkCmCD8wbF53bIC/88owbw1zwwi8n3VB6DQ0N9h0amDsqPV/6V0+plZ9bKj1fBB+YN65429nypceKXjaMOvbV//WirG1+ixtL55xzzpGTJ6f3t0MxO55//nk577zz3Fh5Gnzo47aYO15//XV73tIi+MC8sXvtW+VL33/OpFPUgNQ5PT9//J1n5Y8feVa2f/wiNzWdpUuX2uBDEzUg9U3PzzPPPGPTJZekfxbjrLPOssGHJmpA6puen1/+8pc2nX322W5qebxkDPPKz158U7YdeFoOjD6vvxVuKurNReculivetUR2//675T0XneWmpvfmm2/KT3/6Uzl16hSFUx3TP3530UUX2ZeLaUBRCT2vep7PnOFGop75tR0aeKSt+bBvOL3vvvumfud3fsdNAgAAqJ2/+Zu/odkFAABkq4GOPQAAIAsab2jc0aCPrb344otuMgAAQG289NJL9nH5hnPPPVdeeeUVNxkAAKA2Xn75ZdG4o+H888+3fwYXAACglrSlRd/50nDBBRfYSOTpp592swAAAKpL4wwNPi688EKvw+nb3vY2+dGPfiSvvfaaWwQAAKA6NL7QOOPtb3+71+dDgw99XbG+CObYsWMEIAAAoGo0rtD4QuMMjTeUDT406UR9m9xjjz0mTz31lJ0JAAAwXRpPaFyh8cXFF19s4w2bvvvd707pa2z1Fbb6U/84zHPPPSeXXnqpvPWSpbL00rfKkiVLbO9UAACAJPo3XvQhFu1Lqv07NGlTi8YQGnRok4sNPt75zneG/jCCBiA6Qzuinv/+T8n/vuE35ILJSRuc5N+x/9ITct9fDcuMn5F562/Jf7zuCrnQjapK3+P/8hPfkPt+8IJc/MHr5fevCK4pHT3ectIso0ov97IcHbpffvC8G62Wt35QrutcEcpD6/VfyD88fFD+Sf/454Ut8ru/91vyK15tl+ep78lXH/mxyMW/aT9/gZtcStHxvfm6vPZG+T/s9cqTD8u3Rl6Ui9o+Iddc7m2pVF4tPvstck7wz0A8/aj8xXfNvlbgot/4lHxyRcxRvTwqDz7wv+RFeb9c/Z+vkne6yb78fpnl9g/9g1nu3XLV/2u1vC/pz1K8+RM59D8fladMDrb93rXygYvd9Aq8MrpfHvgHkz+/ca2sa01zJoyp1+XZf/qu/PUTz5qRS+Q31q2R1sr+PluRSZPPX//bn8hkuWOOsteBSadOySunT8nPzc/n/+WUvPjqL826gs6Vtk+slw9c6kZn7BUZfegB+QfzRfQrv3WdfDzpr+NOPStH7vtrOf66Gb7kN2TdJ1rlolR/guLn8uj/+K78xI1Vxa9eLf/5w9GrLuyVow/KN8318P6P/me56l1uYpwUvxcX/Yffl86434OgV38k39r3d/KsXCa/tf4T8mvp//hsES07Ql4+Kg984+/N79F75COf+ai8P/H36Mfy3b/8nvzMfJP9eufvy2+8Nf1fR7V0O/f/YIZl0q/K79y4WkpleWmvy9OH75O/OaEX2jvkqv/YIcvP9+bEKcqrEp7+3l55+ITZw49vkN9+j5sY8rKMfOM+OfLCxbJy/e9L2xI3OUAL/XiTMv7te+W75kJ/90dvlN9tWuymR0y9ID/8xj75e1OGvWPVZ2RtS/GFYvtymKR/00eDDX2aVmOJxYsn5dUXXpU3XPDR0NAg/3+FGAO+RU3M4AAAAABJRU5ErkJggg==\" width=300>"
   ]
  },
  {
   "cell_type": "markdown",
   "metadata": {},
   "source": [
    "# 额外的编码方式 (10%)"
   ]
  },
  {
   "cell_type": "markdown",
   "metadata": {},
   "source": [
    "通过补充`ECCompressedPostings`的`encode` 和 `decode`方法来实现一种额外的索引压缩方式。在我们课上学的就是**gamma-encoding** 。另外如果大家感兴趣的话也可以了解**Delta Encoding** ，[ALGORITHM SIMPLE-9](https://github.com/manning/CompressionAlgorithms#simple-9) 等。\n",
    "\n",
    "你应该以多字节（而不是bits）来存储倒排记录表，因为索引的长度和位置都存的是字节信息。 (4%)"
   ]
  },
  {
   "cell_type": "code",
   "execution_count": null,
   "metadata": {},
   "outputs": [],
   "source": [
    "class ECCompressedPostings:\n",
    "    #If you need any extra helper methods you can add them here \n",
    "    ### Begin your code\n",
    "\n",
    "    ### End your code\n",
    "    \n",
    "    @staticmethod\n",
    "    def encode(postings_list):\n",
    "        \"\"\"Encodes `postings_list` \n",
    "        \n",
    "        Parameters\n",
    "        ----------\n",
    "        postings_list: List[int]\n",
    "            The postings list to be encoded\n",
    "        \n",
    "        Returns\n",
    "        -------\n",
    "        bytes: \n",
    "            Bytes reprsentation of the compressed postings list \n",
    "        \"\"\"\n",
    "        ### Begin your code\n",
    "\n",
    "        ### End your code\n",
    "\n",
    "        \n",
    "    @staticmethod\n",
    "    def decode(encoded_postings_list):\n",
    "        \"\"\"Decodes a byte representation of compressed postings list\n",
    "        \n",
    "        Parameters\n",
    "        ----------\n",
    "        encoded_postings_list: bytes\n",
    "            Bytes representation as produced by `CompressedPostings.encode` \n",
    "            \n",
    "        Returns\n",
    "        -------\n",
    "        List[int]\n",
    "            Decoded postings list (each posting is a docId)\n",
    "        \"\"\"\n",
    "        ### Begin your code\n",
    "\n",
    "        ### End your code"
   ]
  },
  {
   "cell_type": "markdown",
   "metadata": {},
   "source": [
    "***索引压缩类：Variable Byte编码***\n",
    "\n",
    "***仅介绍VB编码的实现方式，具体编解码过程请参见上文Gama编码。对一个二进制数，前补位使其长度为7的倍数，后按7位一组，第一组前加1，之后的\n",
    "每一组前加0，将所有组拼接得到结果。***"
   ]
  },
  {
   "cell_type": "code",
   "execution_count": null,
   "metadata": {},
   "outputs": [],
   "source": [
    "import array\n",
    "\n",
    "class ECCompressedPostings:\n",
    "    @staticmethod\n",
    "    def vb_code(postings):\n",
    "        bin_postings = bin(postings)[2: ]\n",
    "        result = ''\n",
    "        start_index = 0\n",
    "        add_number = (7 - len(bin_postings) % 7) % 7\n",
    "        bin_postings = add_number * '0' + bin_postings\n",
    "        sign = '1'\n",
    "        while start_index < len(bin_postings):\n",
    "            end_index = start_index + 7\n",
    "            temp_piece = bin_postings[start_index: end_index]\n",
    "            result = result + sign + temp_piece\n",
    "            sign = '0'\n",
    "            start_index = end_index\n",
    "        return result\n",
    "\n",
    "\n",
    "    @staticmethod\n",
    "    def encode(postings_list):\n",
    "        gap_list = [ECCompressedPostings.vb_code(postings_list[0])]\n",
    "        for i in range(1, len(postings_list)):\n",
    "            gap_list.append(ECCompressedPostings.vb_code(postings_list[i] - postings_list[i - 1]))\n",
    "        code_str = ''\n",
    "        for g in gap_list:\n",
    "            code_str += g\n",
    "        code_str = ((8 - (len(code_str) % 8)) % 8) * '0' + code_str\n",
    "        byte_stream = bytearray()\n",
    "        for i in range(0, len(code_str), 8):\n",
    "            byte_stream.append(int(code_str[i: i + 8], 2))\n",
    "        return array.array('B', byte_stream).tobytes()\n",
    "\n",
    "    @staticmethod\n",
    "    def decode(encoded_postings_list):\n",
    "        byte_stream = array.array('B')\n",
    "        byte_stream.frombytes(encoded_postings_list)\n",
    "        code_str = ''\n",
    "        for byte in byte_stream:\n",
    "            byte_str = bin(byte)[2:].zfill(8)\n",
    "            code_str += byte_str\n",
    "        start_index = 0\n",
    "        gap_list = []\n",
    "        for i in range(0, len(code_str)):\n",
    "            if code_str[i] == '1':\n",
    "                start_index = i\n",
    "                break\n",
    "        temp_piece = ''\n",
    "        while start_index < len(code_str):\n",
    "            end_index = start_index + 8\n",
    "            temp_piece += code_str[start_index + 1: end_index]\n",
    "            if end_index == len(code_str) or code_str[end_index] == '1':\n",
    "                gap_list.append(int(temp_piece, 2))\n",
    "                temp_piece = ''\n",
    "            start_index = end_index\n",
    "\n",
    "        decoded_postings_list = [gap_list[0]]\n",
    "        for i in range(1, len(gap_list)):\n",
    "            decoded_postings_list.append(gap_list[i] + decoded_postings_list[-1])\n",
    "        return decoded_postings_list"
   ]
  },
  {
   "cell_type": "markdown",
   "metadata": {},
   "source": [
    "同上，写一些测试样例来确保代码正常运行 (3%)"
   ]
  },
  {
   "cell_type": "markdown",
   "metadata": {},
   "source": [
    "***测试代码***"
   ]
  },
  {
   "cell_type": "code",
   "execution_count": null,
   "metadata": {},
   "outputs": [],
   "source": [
    "def test_encode_decode(l):\n",
    "    print(l)\n",
    "    e = ECCompressedPostings.encode(l)\n",
    "    print(e)\n",
    "    d = ECCompressedPostings.decode(e)\n",
    "    print(d)\n",
    "    assert d == l\n",
    "    print(l, e)\n",
    "\n",
    "test_encode_decode([1, 2, 3, 4, 5, 6])\n",
    "print('-' * 30)\n",
    "test_encode_decode([33, 56, 535, 666])"
   ]
  },
  {
   "cell_type": "markdown",
   "metadata": {},
   "source": [
    "***结果***"
   ]
  },
  {
   "cell_type": "markdown",
   "metadata": {},
   "source": [
    "[1, 2, 3, 4, 5, 6]\n",
    "\n",
    "b'\\x81\\x81\\x81\\x81\\x81\\x81'\n",
    "\n",
    "[1, 2, 3, 4, 5, 6]\n",
    "\n",
    "[1, 2, 3, 4, 5, 6] b'\\x81\\x81\\x81\\x81\\x81\\x81'\n",
    "\n",
    "------------------------------\n",
    "\n",
    "[33, 56, 535, 666]\n",
    "\n",
    "b'\\xa1\\x97\\x83_\\x81\\x03'\n",
    "\n",
    "[33, 56, 535, 666]\n",
    "\n",
    "[33, 56, 535, 666] b'\\xa1\\x97\\x83_\\x81\\x03'"
   ]
  },
  {
   "cell_type": "markdown",
   "metadata": {},
   "source": [
    "请追加压缩前后的文件大小截图 (3%)"
   ]
  },
  {
   "attachments": {},
   "cell_type": "markdown",
   "metadata": {},
   "source": [
    "<img src=\"data:image/png;base64,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\" width=300>"
   ]
  },
  {
   "cell_type": "markdown",
   "metadata": {},
   "source": [
    "# 作业提交\n",
    "\n",
    "本次作业用时约3周，截止日期为2024.03.26。请大家在截止日期前将代码、实验报告（可单独撰写，也可整合在jupyter notebook中）一起提交到ir24fall@163.com，邮件和文件命名方式均为`学号_姓名_hw1`，如`1811412_戚晓睿_hw1.ipynb`"
   ]
  }
 ],
 "metadata": {
  "kernelspec": {
   "display_name": "Python 3 (ipykernel)",
   "language": "python",
   "name": "python3"
  },
  "language_info": {
   "codemirror_mode": {
    "name": "ipython",
    "version": 3
   },
   "file_extension": ".py",
   "mimetype": "text/x-python",
   "name": "python",
   "nbconvert_exporter": "python",
   "pygments_lexer": "ipython3",
   "version": "3.12.9"
  },
  "toc": {
   "base_numbering": 1,
   "nav_menu": {
    "height": "66px",
    "width": "252px"
   },
   "number_sections": true,
   "sideBar": true,
   "skip_h1_title": false,
   "title_cell": "Table of Contents",
   "title_sidebar": "Contents",
   "toc_cell": false,
   "toc_position": {},
   "toc_section_display": "block",
   "toc_window_display": false
  }
 },
 "nbformat": 4,
 "nbformat_minor": 4
}
